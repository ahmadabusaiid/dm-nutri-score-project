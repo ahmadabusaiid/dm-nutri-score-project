{
 "cells": [
  {
   "cell_type": "code",
   "execution_count": 1,
   "metadata": {},
   "outputs": [],
   "source": [
    "import numpy as np\n",
    "import pandas as pd\n",
    "import seaborn as sns\n",
    "from sklearn.preprocessing import RobustScaler\n",
    "from sklearn.cluster import KMeans, DBSCAN\n",
    "from sklearn.decomposition import PCA\n",
    "import plotly.express as px\n",
    "import matplotlib.pyplot as plt\n",
    "from kneed import KneeLocator\n",
    "from sklearn.mixture import GaussianMixture\n",
    "from sklearn.metrics import silhouette_score, calinski_harabasz_score, davies_bouldin_score\n",
    "\n",
    "\n",
    "import warnings\n",
    "warnings.filterwarnings(\"ignore\")\n",
    "\n",
    "rand_val = 5624"
   ]
  },
  {
   "cell_type": "code",
   "execution_count": 2,
   "metadata": {},
   "outputs": [],
   "source": [
    "df = pd.read_csv(\"fit_nutri_score_classification.csv\")"
   ]
  },
  {
   "cell_type": "code",
   "execution_count": 3,
   "metadata": {},
   "outputs": [],
   "source": [
    "data = df[['energy-kj_100g', 'sugars_100g', 'saturated-fat_100g', 'salt_100g', 'proteins_100g', \n",
    "           'fiber_100g', 'fruit_vege_nut_100g', 'nutriscore_grade', 'fit_nutri_grade']].copy()"
   ]
  },
  {
   "cell_type": "code",
   "execution_count": 4,
   "metadata": {},
   "outputs": [],
   "source": [
    "cluster_data = data[['energy-kj_100g', 'sugars_100g', 'saturated-fat_100g', 'salt_100g', 'proteins_100g', \n",
    "           'fiber_100g', 'fruit_vege_nut_100g']].copy()"
   ]
  },
  {
   "cell_type": "code",
   "execution_count": 5,
   "metadata": {},
   "outputs": [
    {
     "data": {
      "text/html": [
       "<div>\n",
       "<style scoped>\n",
       "    .dataframe tbody tr th:only-of-type {\n",
       "        vertical-align: middle;\n",
       "    }\n",
       "\n",
       "    .dataframe tbody tr th {\n",
       "        vertical-align: top;\n",
       "    }\n",
       "\n",
       "    .dataframe thead th {\n",
       "        text-align: right;\n",
       "    }\n",
       "</style>\n",
       "<table border=\"1\" class=\"dataframe\">\n",
       "  <thead>\n",
       "    <tr style=\"text-align: right;\">\n",
       "      <th></th>\n",
       "      <th>energy-kj_100g</th>\n",
       "      <th>sugars_100g</th>\n",
       "      <th>saturated-fat_100g</th>\n",
       "      <th>salt_100g</th>\n",
       "      <th>proteins_100g</th>\n",
       "      <th>fiber_100g</th>\n",
       "      <th>fruit_vege_nut_100g</th>\n",
       "    </tr>\n",
       "  </thead>\n",
       "  <tbody>\n",
       "    <tr>\n",
       "      <th>0</th>\n",
       "      <td>1940.0</td>\n",
       "      <td>29.4</td>\n",
       "      <td>4.41</td>\n",
       "      <td>0.411</td>\n",
       "      <td>5.88</td>\n",
       "      <td>5.88</td>\n",
       "      <td>15.000000</td>\n",
       "    </tr>\n",
       "    <tr>\n",
       "      <th>1</th>\n",
       "      <td>1958.0</td>\n",
       "      <td>60.0</td>\n",
       "      <td>13.00</td>\n",
       "      <td>0.020</td>\n",
       "      <td>3.30</td>\n",
       "      <td>4.60</td>\n",
       "      <td>23.000000</td>\n",
       "    </tr>\n",
       "    <tr>\n",
       "      <th>2</th>\n",
       "      <td>1979.0</td>\n",
       "      <td>0.8</td>\n",
       "      <td>2.00</td>\n",
       "      <td>0.900</td>\n",
       "      <td>6.60</td>\n",
       "      <td>4.00</td>\n",
       "      <td>0.000000</td>\n",
       "    </tr>\n",
       "    <tr>\n",
       "      <th>3</th>\n",
       "      <td>1741.1</td>\n",
       "      <td>14.4</td>\n",
       "      <td>20.20</td>\n",
       "      <td>0.300</td>\n",
       "      <td>11.30</td>\n",
       "      <td>10.20</td>\n",
       "      <td>0.000000</td>\n",
       "    </tr>\n",
       "    <tr>\n",
       "      <th>4</th>\n",
       "      <td>1695.0</td>\n",
       "      <td>18.0</td>\n",
       "      <td>12.00</td>\n",
       "      <td>0.650</td>\n",
       "      <td>8.40</td>\n",
       "      <td>1.60</td>\n",
       "      <td>0.000000</td>\n",
       "    </tr>\n",
       "    <tr>\n",
       "      <th>...</th>\n",
       "      <td>...</td>\n",
       "      <td>...</td>\n",
       "      <td>...</td>\n",
       "      <td>...</td>\n",
       "      <td>...</td>\n",
       "      <td>...</td>\n",
       "      <td>...</td>\n",
       "    </tr>\n",
       "    <tr>\n",
       "      <th>305</th>\n",
       "      <td>1610.0</td>\n",
       "      <td>52.0</td>\n",
       "      <td>6.00</td>\n",
       "      <td>0.150</td>\n",
       "      <td>3.00</td>\n",
       "      <td>2.00</td>\n",
       "      <td>11.000000</td>\n",
       "    </tr>\n",
       "    <tr>\n",
       "      <th>306</th>\n",
       "      <td>2210.0</td>\n",
       "      <td>59.0</td>\n",
       "      <td>18.00</td>\n",
       "      <td>0.000</td>\n",
       "      <td>6.10</td>\n",
       "      <td>1.80</td>\n",
       "      <td>0.390625</td>\n",
       "    </tr>\n",
       "    <tr>\n",
       "      <th>307</th>\n",
       "      <td>1507.0</td>\n",
       "      <td>29.0</td>\n",
       "      <td>0.20</td>\n",
       "      <td>0.050</td>\n",
       "      <td>7.90</td>\n",
       "      <td>2.90</td>\n",
       "      <td>0.000000</td>\n",
       "    </tr>\n",
       "    <tr>\n",
       "      <th>308</th>\n",
       "      <td>2039.0</td>\n",
       "      <td>1.8</td>\n",
       "      <td>7.40</td>\n",
       "      <td>1.430</td>\n",
       "      <td>10.50</td>\n",
       "      <td>0.00</td>\n",
       "      <td>19.000000</td>\n",
       "    </tr>\n",
       "    <tr>\n",
       "      <th>309</th>\n",
       "      <td>1972.0</td>\n",
       "      <td>0.7</td>\n",
       "      <td>2.00</td>\n",
       "      <td>1.000</td>\n",
       "      <td>6.90</td>\n",
       "      <td>5.20</td>\n",
       "      <td>4.687500</td>\n",
       "    </tr>\n",
       "  </tbody>\n",
       "</table>\n",
       "<p>310 rows × 7 columns</p>\n",
       "</div>"
      ],
      "text/plain": [
       "     energy-kj_100g  sugars_100g  saturated-fat_100g  salt_100g  \\\n",
       "0            1940.0         29.4                4.41      0.411   \n",
       "1            1958.0         60.0               13.00      0.020   \n",
       "2            1979.0          0.8                2.00      0.900   \n",
       "3            1741.1         14.4               20.20      0.300   \n",
       "4            1695.0         18.0               12.00      0.650   \n",
       "..              ...          ...                 ...        ...   \n",
       "305          1610.0         52.0                6.00      0.150   \n",
       "306          2210.0         59.0               18.00      0.000   \n",
       "307          1507.0         29.0                0.20      0.050   \n",
       "308          2039.0          1.8                7.40      1.430   \n",
       "309          1972.0          0.7                2.00      1.000   \n",
       "\n",
       "     proteins_100g  fiber_100g  fruit_vege_nut_100g  \n",
       "0             5.88        5.88            15.000000  \n",
       "1             3.30        4.60            23.000000  \n",
       "2             6.60        4.00             0.000000  \n",
       "3            11.30       10.20             0.000000  \n",
       "4             8.40        1.60             0.000000  \n",
       "..             ...         ...                  ...  \n",
       "305           3.00        2.00            11.000000  \n",
       "306           6.10        1.80             0.390625  \n",
       "307           7.90        2.90             0.000000  \n",
       "308          10.50        0.00            19.000000  \n",
       "309           6.90        5.20             4.687500  \n",
       "\n",
       "[310 rows x 7 columns]"
      ]
     },
     "execution_count": 5,
     "metadata": {},
     "output_type": "execute_result"
    }
   ],
   "source": [
    "cluster_data"
   ]
  },
  {
   "cell_type": "code",
   "execution_count": 6,
   "metadata": {},
   "outputs": [],
   "source": [
    "rb_scaler = RobustScaler()\n",
    "cluster_data = rb_scaler.fit_transform(cluster_data)"
   ]
  },
  {
   "cell_type": "code",
   "execution_count": 7,
   "metadata": {},
   "outputs": [],
   "source": [
    "cluster_df = pd.DataFrame(cluster_data, columns = ['energy_kj_100g', 'sugars_100g', 'saturated_fat_100g', 'salt_100g', 'proteins_100g', 'fiber_100g', 'fruit_vege_nut_100g'])"
   ]
  },
  {
   "cell_type": "code",
   "execution_count": 8,
   "metadata": {},
   "outputs": [
    {
     "data": {
      "text/html": [
       "<div>\n",
       "<style scoped>\n",
       "    .dataframe tbody tr th:only-of-type {\n",
       "        vertical-align: middle;\n",
       "    }\n",
       "\n",
       "    .dataframe tbody tr th {\n",
       "        vertical-align: top;\n",
       "    }\n",
       "\n",
       "    .dataframe thead th {\n",
       "        text-align: right;\n",
       "    }\n",
       "</style>\n",
       "<table border=\"1\" class=\"dataframe\">\n",
       "  <thead>\n",
       "    <tr style=\"text-align: right;\">\n",
       "      <th></th>\n",
       "      <th>energy_kj_100g</th>\n",
       "      <th>sugars_100g</th>\n",
       "      <th>saturated_fat_100g</th>\n",
       "      <th>salt_100g</th>\n",
       "      <th>proteins_100g</th>\n",
       "      <th>fiber_100g</th>\n",
       "      <th>fruit_vege_nut_100g</th>\n",
       "    </tr>\n",
       "  </thead>\n",
       "  <tbody>\n",
       "    <tr>\n",
       "      <th>0</th>\n",
       "      <td>0.061785</td>\n",
       "      <td>0.555932</td>\n",
       "      <td>0.128900</td>\n",
       "      <td>-0.106667</td>\n",
       "      <td>-0.173494</td>\n",
       "      <td>0.644156</td>\n",
       "      <td>1.012048</td>\n",
       "    </tr>\n",
       "    <tr>\n",
       "      <th>1</th>\n",
       "      <td>0.089245</td>\n",
       "      <td>1.593220</td>\n",
       "      <td>1.007673</td>\n",
       "      <td>-0.603175</td>\n",
       "      <td>-0.795181</td>\n",
       "      <td>0.311688</td>\n",
       "      <td>1.551807</td>\n",
       "    </tr>\n",
       "    <tr>\n",
       "      <th>2</th>\n",
       "      <td>0.121281</td>\n",
       "      <td>-0.413559</td>\n",
       "      <td>-0.117647</td>\n",
       "      <td>0.514286</td>\n",
       "      <td>0.000000</td>\n",
       "      <td>0.155844</td>\n",
       "      <td>0.000000</td>\n",
       "    </tr>\n",
       "    <tr>\n",
       "      <th>3</th>\n",
       "      <td>-0.241648</td>\n",
       "      <td>0.047458</td>\n",
       "      <td>1.744246</td>\n",
       "      <td>-0.247619</td>\n",
       "      <td>1.132530</td>\n",
       "      <td>1.766234</td>\n",
       "      <td>0.000000</td>\n",
       "    </tr>\n",
       "    <tr>\n",
       "      <th>4</th>\n",
       "      <td>-0.311976</td>\n",
       "      <td>0.169492</td>\n",
       "      <td>0.905371</td>\n",
       "      <td>0.196825</td>\n",
       "      <td>0.433735</td>\n",
       "      <td>-0.467532</td>\n",
       "      <td>0.000000</td>\n",
       "    </tr>\n",
       "    <tr>\n",
       "      <th>...</th>\n",
       "      <td>...</td>\n",
       "      <td>...</td>\n",
       "      <td>...</td>\n",
       "      <td>...</td>\n",
       "      <td>...</td>\n",
       "      <td>...</td>\n",
       "      <td>...</td>\n",
       "    </tr>\n",
       "    <tr>\n",
       "      <th>305</th>\n",
       "      <td>-0.441648</td>\n",
       "      <td>1.322034</td>\n",
       "      <td>0.291560</td>\n",
       "      <td>-0.438095</td>\n",
       "      <td>-0.867470</td>\n",
       "      <td>-0.363636</td>\n",
       "      <td>0.742169</td>\n",
       "    </tr>\n",
       "    <tr>\n",
       "      <th>306</th>\n",
       "      <td>0.473684</td>\n",
       "      <td>1.559322</td>\n",
       "      <td>1.519182</td>\n",
       "      <td>-0.628571</td>\n",
       "      <td>-0.120482</td>\n",
       "      <td>-0.415584</td>\n",
       "      <td>0.026355</td>\n",
       "    </tr>\n",
       "    <tr>\n",
       "      <th>307</th>\n",
       "      <td>-0.598780</td>\n",
       "      <td>0.542373</td>\n",
       "      <td>-0.301790</td>\n",
       "      <td>-0.565079</td>\n",
       "      <td>0.313253</td>\n",
       "      <td>-0.129870</td>\n",
       "      <td>0.000000</td>\n",
       "    </tr>\n",
       "    <tr>\n",
       "      <th>308</th>\n",
       "      <td>0.212815</td>\n",
       "      <td>-0.379661</td>\n",
       "      <td>0.434783</td>\n",
       "      <td>1.187302</td>\n",
       "      <td>0.939759</td>\n",
       "      <td>-0.883117</td>\n",
       "      <td>1.281928</td>\n",
       "    </tr>\n",
       "    <tr>\n",
       "      <th>309</th>\n",
       "      <td>0.110603</td>\n",
       "      <td>-0.416949</td>\n",
       "      <td>-0.117647</td>\n",
       "      <td>0.641270</td>\n",
       "      <td>0.072289</td>\n",
       "      <td>0.467532</td>\n",
       "      <td>0.316265</td>\n",
       "    </tr>\n",
       "  </tbody>\n",
       "</table>\n",
       "<p>310 rows × 7 columns</p>\n",
       "</div>"
      ],
      "text/plain": [
       "     energy_kj_100g  sugars_100g  saturated_fat_100g  salt_100g  \\\n",
       "0          0.061785     0.555932            0.128900  -0.106667   \n",
       "1          0.089245     1.593220            1.007673  -0.603175   \n",
       "2          0.121281    -0.413559           -0.117647   0.514286   \n",
       "3         -0.241648     0.047458            1.744246  -0.247619   \n",
       "4         -0.311976     0.169492            0.905371   0.196825   \n",
       "..              ...          ...                 ...        ...   \n",
       "305       -0.441648     1.322034            0.291560  -0.438095   \n",
       "306        0.473684     1.559322            1.519182  -0.628571   \n",
       "307       -0.598780     0.542373           -0.301790  -0.565079   \n",
       "308        0.212815    -0.379661            0.434783   1.187302   \n",
       "309        0.110603    -0.416949           -0.117647   0.641270   \n",
       "\n",
       "     proteins_100g  fiber_100g  fruit_vege_nut_100g  \n",
       "0        -0.173494    0.644156             1.012048  \n",
       "1        -0.795181    0.311688             1.551807  \n",
       "2         0.000000    0.155844             0.000000  \n",
       "3         1.132530    1.766234             0.000000  \n",
       "4         0.433735   -0.467532             0.000000  \n",
       "..             ...         ...                  ...  \n",
       "305      -0.867470   -0.363636             0.742169  \n",
       "306      -0.120482   -0.415584             0.026355  \n",
       "307       0.313253   -0.129870             0.000000  \n",
       "308       0.939759   -0.883117             1.281928  \n",
       "309       0.072289    0.467532             0.316265  \n",
       "\n",
       "[310 rows x 7 columns]"
      ]
     },
     "execution_count": 8,
     "metadata": {},
     "output_type": "execute_result"
    }
   ],
   "source": [
    "cluster_df"
   ]
  },
  {
   "cell_type": "code",
   "execution_count": 9,
   "metadata": {},
   "outputs": [
    {
     "name": "stdout",
     "output_type": "stream",
     "text": [
      "\n",
      "No. of components:  3\n",
      "Total Proportion of Variance Explained = 0.787\n"
     ]
    }
   ],
   "source": [
    "pca = PCA(3, random_state = rand_val)\n",
    "pca.fit(cluster_df)\n",
    "print('\\nNo. of components: ', pca.n_components_)\n",
    "print(f'Total Proportion of Variance Explained = {round(np.sum(pca.explained_variance_ratio_), 3)}')\n",
    "\n",
    "pca_cluster = pca.transform(cluster_df)\n",
    "pca_cluster_df = pd.DataFrame(pca_cluster, columns = [\"PC1\", \"PC2\", \"PC3\"])"
   ]
  },
  {
   "cell_type": "code",
   "execution_count": 10,
   "metadata": {},
   "outputs": [],
   "source": [
    "dbs = DBSCAN(eps=3, min_samples=3)\n",
    "pca_cluster_df['dbs_cluster'] = dbs.fit_predict(pca_cluster_df[[\"PC1\", \"PC2\", \"PC3\"]])\n"
   ]
  },
  {
   "cell_type": "code",
   "execution_count": 11,
   "metadata": {},
   "outputs": [],
   "source": [
    "data = data.merge(\n",
    "    pca_cluster_df,\n",
    "    left_index=True,\n",
    "    right_index=True\n",
    ")"
   ]
  },
  {
   "cell_type": "code",
   "execution_count": 12,
   "metadata": {},
   "outputs": [],
   "source": [
    "pca_cluster_df_outlier = pca_cluster_df.loc[pca_cluster_df.dbs_cluster == -1]\n",
    "pca_cluster_df_normal = pca_cluster_df.loc[pca_cluster_df.dbs_cluster == 0]\n",
    "\n",
    "data_outlier = data.loc[data.dbs_cluster == -1]\n",
    "data_normal = data.loc[data.dbs_cluster == 0]"
   ]
  },
  {
   "cell_type": "code",
   "execution_count": 13,
   "metadata": {},
   "outputs": [
    {
     "data": {
      "image/png": "[encoded data removed]",
      "text/plain": [
       "<Figure size 1200x700 with 1 Axes>"
      ]
     },
     "metadata": {},
     "output_type": "display_data"
    }
   ],
   "source": [
    "\n",
    "wss = []\n",
    "\n",
    "max_k = 10\n",
    "\n",
    "for k in range(2, max_k):\n",
    "    kmeans = KMeans(n_clusters = k, random_state = rand_val, n_init=\"auto\")\n",
    "    kmeans.fit(pca_cluster_df_normal[[\"PC1\", \"PC2\", \"PC3\"]])\n",
    "    wss.append(kmeans.inertia_)\n",
    "    \n",
    "kl = KneeLocator(range(2, max_k), wss, curve = 'convex', direction = 'decreasing')\n",
    "elbow = kl.elbow\n",
    "\n",
    "plt.figure(figsize = (12, 7))\n",
    "plt.plot(range(2, max_k), wss, label = f'Optimal k = {elbow}')\n",
    "plt.xticks(range(2, max_k))\n",
    "plt.axvline(x = elbow, color = 'black', linestyle = '--')\n",
    "plt.title('Elbow Method for Optimal K-Means Clusters')\n",
    "plt.xlabel(\"No. of Clusters\")\n",
    "plt.ylabel(\"WSS\")\n",
    "plt.legend()\n",
    "plt.show()"
   ]
  },
  {
   "cell_type": "code",
   "execution_count": 14,
   "metadata": {},
   "outputs": [],
   "source": [
    "kmeans_model = KMeans(n_clusters = 5, random_state = rand_val, n_init=\"auto\")\n",
    "pca_cluster_df_normal['km_cluster'] = kmeans_model.fit_predict(pca_cluster_df_normal[[\"PC1\", \"PC2\", \"PC3\"]])\n",
    "\n",
    "gmm = GaussianMixture(n_components=5, random_state=rand_val)\n",
    "pca_cluster_df_normal['gmm_cluster'] = gmm.fit_predict(pca_cluster_df_normal[[\"PC1\", \"PC2\", \"PC3\"]])"
   ]
  },
  {
   "cell_type": "code",
   "execution_count": 15,
   "metadata": {},
   "outputs": [],
   "source": [
    "data_normal = data.merge(\n",
    "    pca_cluster_df_normal[[\"km_cluster\", \"gmm_cluster\"]],\n",
    "    left_index=True,\n",
    "    right_index=True\n",
    ")"
   ]
  },
  {
   "cell_type": "code",
   "execution_count": 16,
   "metadata": {},
   "outputs": [
    {
     "data": {
      "text/html": [
       "<div>\n",
       "<style scoped>\n",
       "    .dataframe tbody tr th:only-of-type {\n",
       "        vertical-align: middle;\n",
       "    }\n",
       "\n",
       "    .dataframe tbody tr th {\n",
       "        vertical-align: top;\n",
       "    }\n",
       "\n",
       "    .dataframe thead th {\n",
       "        text-align: right;\n",
       "    }\n",
       "</style>\n",
       "<table border=\"1\" class=\"dataframe\">\n",
       "  <thead>\n",
       "    <tr style=\"text-align: right;\">\n",
       "      <th></th>\n",
       "      <th>energy-kj_100g</th>\n",
       "      <th>sugars_100g</th>\n",
       "      <th>saturated-fat_100g</th>\n",
       "      <th>salt_100g</th>\n",
       "      <th>proteins_100g</th>\n",
       "      <th>fiber_100g</th>\n",
       "      <th>fruit_vege_nut_100g</th>\n",
       "      <th>nutriscore_grade</th>\n",
       "      <th>fit_nutri_grade</th>\n",
       "      <th>PC1</th>\n",
       "      <th>PC2</th>\n",
       "      <th>PC3</th>\n",
       "      <th>dbs_cluster</th>\n",
       "      <th>km_cluster</th>\n",
       "      <th>gmm_cluster</th>\n",
       "    </tr>\n",
       "  </thead>\n",
       "  <tbody>\n",
       "    <tr>\n",
       "      <th>0</th>\n",
       "      <td>1940.0</td>\n",
       "      <td>29.4</td>\n",
       "      <td>4.41</td>\n",
       "      <td>0.411</td>\n",
       "      <td>5.88</td>\n",
       "      <td>5.88</td>\n",
       "      <td>15.000000</td>\n",
       "      <td>d</td>\n",
       "      <td>c</td>\n",
       "      <td>0.080618</td>\n",
       "      <td>-0.104240</td>\n",
       "      <td>-0.518184</td>\n",
       "      <td>0</td>\n",
       "      <td>3</td>\n",
       "      <td>3</td>\n",
       "    </tr>\n",
       "    <tr>\n",
       "      <th>1</th>\n",
       "      <td>1958.0</td>\n",
       "      <td>60.0</td>\n",
       "      <td>13.00</td>\n",
       "      <td>0.020</td>\n",
       "      <td>3.30</td>\n",
       "      <td>4.60</td>\n",
       "      <td>23.000000</td>\n",
       "      <td>e</td>\n",
       "      <td>e</td>\n",
       "      <td>-0.351203</td>\n",
       "      <td>0.352029</td>\n",
       "      <td>-1.303482</td>\n",
       "      <td>0</td>\n",
       "      <td>0</td>\n",
       "      <td>3</td>\n",
       "    </tr>\n",
       "    <tr>\n",
       "      <th>2</th>\n",
       "      <td>1979.0</td>\n",
       "      <td>0.8</td>\n",
       "      <td>2.00</td>\n",
       "      <td>0.900</td>\n",
       "      <td>6.60</td>\n",
       "      <td>4.00</td>\n",
       "      <td>0.000000</td>\n",
       "      <td>b</td>\n",
       "      <td>b</td>\n",
       "      <td>-0.500959</td>\n",
       "      <td>-0.945319</td>\n",
       "      <td>0.171280</td>\n",
       "      <td>0</td>\n",
       "      <td>0</td>\n",
       "      <td>0</td>\n",
       "    </tr>\n",
       "    <tr>\n",
       "      <th>3</th>\n",
       "      <td>1741.1</td>\n",
       "      <td>14.4</td>\n",
       "      <td>20.20</td>\n",
       "      <td>0.300</td>\n",
       "      <td>11.30</td>\n",
       "      <td>10.20</td>\n",
       "      <td>0.000000</td>\n",
       "      <td>d</td>\n",
       "      <td>d</td>\n",
       "      <td>1.190483</td>\n",
       "      <td>-1.166057</td>\n",
       "      <td>0.503403</td>\n",
       "      <td>0</td>\n",
       "      <td>3</td>\n",
       "      <td>3</td>\n",
       "    </tr>\n",
       "    <tr>\n",
       "      <th>4</th>\n",
       "      <td>1695.0</td>\n",
       "      <td>18.0</td>\n",
       "      <td>12.00</td>\n",
       "      <td>0.650</td>\n",
       "      <td>8.40</td>\n",
       "      <td>1.60</td>\n",
       "      <td>0.000000</td>\n",
       "      <td>e</td>\n",
       "      <td>e</td>\n",
       "      <td>-1.067297</td>\n",
       "      <td>-0.710387</td>\n",
       "      <td>0.383807</td>\n",
       "      <td>0</td>\n",
       "      <td>0</td>\n",
       "      <td>0</td>\n",
       "    </tr>\n",
       "    <tr>\n",
       "      <th>...</th>\n",
       "      <td>...</td>\n",
       "      <td>...</td>\n",
       "      <td>...</td>\n",
       "      <td>...</td>\n",
       "      <td>...</td>\n",
       "      <td>...</td>\n",
       "      <td>...</td>\n",
       "      <td>...</td>\n",
       "      <td>...</td>\n",
       "      <td>...</td>\n",
       "      <td>...</td>\n",
       "      <td>...</td>\n",
       "      <td>...</td>\n",
       "      <td>...</td>\n",
       "      <td>...</td>\n",
       "    </tr>\n",
       "    <tr>\n",
       "      <th>305</th>\n",
       "      <td>1610.0</td>\n",
       "      <td>52.0</td>\n",
       "      <td>6.00</td>\n",
       "      <td>0.150</td>\n",
       "      <td>3.00</td>\n",
       "      <td>2.00</td>\n",
       "      <td>11.000000</td>\n",
       "      <td>d</td>\n",
       "      <td>e</td>\n",
       "      <td>-1.122261</td>\n",
       "      <td>-0.162411</td>\n",
       "      <td>-1.231375</td>\n",
       "      <td>0</td>\n",
       "      <td>0</td>\n",
       "      <td>3</td>\n",
       "    </tr>\n",
       "    <tr>\n",
       "      <th>306</th>\n",
       "      <td>2210.0</td>\n",
       "      <td>59.0</td>\n",
       "      <td>18.00</td>\n",
       "      <td>0.000</td>\n",
       "      <td>6.10</td>\n",
       "      <td>1.80</td>\n",
       "      <td>0.390625</td>\n",
       "      <td>e</td>\n",
       "      <td>e</td>\n",
       "      <td>-1.228570</td>\n",
       "      <td>-0.849080</td>\n",
       "      <td>-0.314635</td>\n",
       "      <td>0</td>\n",
       "      <td>0</td>\n",
       "      <td>0</td>\n",
       "    </tr>\n",
       "    <tr>\n",
       "      <th>307</th>\n",
       "      <td>1507.0</td>\n",
       "      <td>29.0</td>\n",
       "      <td>0.20</td>\n",
       "      <td>0.050</td>\n",
       "      <td>7.90</td>\n",
       "      <td>2.90</td>\n",
       "      <td>0.000000</td>\n",
       "      <td>c</td>\n",
       "      <td>b</td>\n",
       "      <td>-0.710292</td>\n",
       "      <td>-0.632461</td>\n",
       "      <td>-0.237815</td>\n",
       "      <td>0</td>\n",
       "      <td>0</td>\n",
       "      <td>0</td>\n",
       "    </tr>\n",
       "    <tr>\n",
       "      <th>308</th>\n",
       "      <td>2039.0</td>\n",
       "      <td>1.8</td>\n",
       "      <td>7.40</td>\n",
       "      <td>1.430</td>\n",
       "      <td>10.50</td>\n",
       "      <td>0.00</td>\n",
       "      <td>19.000000</td>\n",
       "      <td>e</td>\n",
       "      <td>d</td>\n",
       "      <td>-1.073492</td>\n",
       "      <td>0.577145</td>\n",
       "      <td>1.279646</td>\n",
       "      <td>0</td>\n",
       "      <td>0</td>\n",
       "      <td>3</td>\n",
       "    </tr>\n",
       "    <tr>\n",
       "      <th>309</th>\n",
       "      <td>1972.0</td>\n",
       "      <td>0.7</td>\n",
       "      <td>2.00</td>\n",
       "      <td>1.000</td>\n",
       "      <td>6.90</td>\n",
       "      <td>5.20</td>\n",
       "      <td>4.687500</td>\n",
       "      <td>b</td>\n",
       "      <td>b</td>\n",
       "      <td>-0.128468</td>\n",
       "      <td>-0.723703</td>\n",
       "      <td>0.194358</td>\n",
       "      <td>0</td>\n",
       "      <td>3</td>\n",
       "      <td>0</td>\n",
       "    </tr>\n",
       "  </tbody>\n",
       "</table>\n",
       "<p>303 rows × 15 columns</p>\n",
       "</div>"
      ],
      "text/plain": [
       "     energy-kj_100g  sugars_100g  saturated-fat_100g  salt_100g  \\\n",
       "0            1940.0         29.4                4.41      0.411   \n",
       "1            1958.0         60.0               13.00      0.020   \n",
       "2            1979.0          0.8                2.00      0.900   \n",
       "3            1741.1         14.4               20.20      0.300   \n",
       "4            1695.0         18.0               12.00      0.650   \n",
       "..              ...          ...                 ...        ...   \n",
       "305          1610.0         52.0                6.00      0.150   \n",
       "306          2210.0         59.0               18.00      0.000   \n",
       "307          1507.0         29.0                0.20      0.050   \n",
       "308          2039.0          1.8                7.40      1.430   \n",
       "309          1972.0          0.7                2.00      1.000   \n",
       "\n",
       "     proteins_100g  fiber_100g  fruit_vege_nut_100g nutriscore_grade  \\\n",
       "0             5.88        5.88            15.000000                d   \n",
       "1             3.30        4.60            23.000000                e   \n",
       "2             6.60        4.00             0.000000                b   \n",
       "3            11.30       10.20             0.000000                d   \n",
       "4             8.40        1.60             0.000000                e   \n",
       "..             ...         ...                  ...              ...   \n",
       "305           3.00        2.00            11.000000                d   \n",
       "306           6.10        1.80             0.390625                e   \n",
       "307           7.90        2.90             0.000000                c   \n",
       "308          10.50        0.00            19.000000                e   \n",
       "309           6.90        5.20             4.687500                b   \n",
       "\n",
       "    fit_nutri_grade       PC1       PC2       PC3  dbs_cluster  km_cluster  \\\n",
       "0                 c  0.080618 -0.104240 -0.518184            0           3   \n",
       "1                 e -0.351203  0.352029 -1.303482            0           0   \n",
       "2                 b -0.500959 -0.945319  0.171280            0           0   \n",
       "3                 d  1.190483 -1.166057  0.503403            0           3   \n",
       "4                 e -1.067297 -0.710387  0.383807            0           0   \n",
       "..              ...       ...       ...       ...          ...         ...   \n",
       "305               e -1.122261 -0.162411 -1.231375            0           0   \n",
       "306               e -1.228570 -0.849080 -0.314635            0           0   \n",
       "307               b -0.710292 -0.632461 -0.237815            0           0   \n",
       "308               d -1.073492  0.577145  1.279646            0           0   \n",
       "309               b -0.128468 -0.723703  0.194358            0           3   \n",
       "\n",
       "     gmm_cluster  \n",
       "0              3  \n",
       "1              3  \n",
       "2              0  \n",
       "3              3  \n",
       "4              0  \n",
       "..           ...  \n",
       "305            3  \n",
       "306            0  \n",
       "307            0  \n",
       "308            3  \n",
       "309            0  \n",
       "\n",
       "[303 rows x 15 columns]"
      ]
     },
     "execution_count": 16,
     "metadata": {},
     "output_type": "execute_result"
    }
   ],
   "source": [
    "data_normal"
   ]
  },
  {
   "cell_type": "code",
   "execution_count": 17,
   "metadata": {},
   "outputs": [
    {
     "data": {
      "application/vnd.plotly.v1+json": {
       "config": {
        "plotlyServerURL": "https://plot.ly"
       },
       "data": [
        {
         "hovertemplate": "PC1=%{x}<br>PC2=%{y}<br>PC3=%{z}<br>km_cluster=%{marker.color}<extra></extra>",
         "legendgroup": "",
         "marker": {
          "color": [
           3,
           0,
           0,
           3,
           0,
           0,
           0,
           3,
           0,
           2,
           3,
           3,
           0,
           0,
           0,
           0,
           0,
           0,
           0,
           3,
           1,
           0,
           3,
           3,
           0,
           3,
           0,
           0,
           3,
           0,
           0,
           0,
           3,
           0,
           3,
           0,
           2,
           0,
           2,
           1,
           0,
           0,
           1,
           0,
           3,
           2,
           3,
           0,
           0,
           0,
           2,
           0,
           0,
           0,
           2,
           3,
           3,
           0,
           0,
           0,
           0,
           3,
           0,
           2,
           3,
           0,
           0,
           0,
           2,
           0,
           0,
           0,
           2,
           2,
           3,
           0,
           3,
           0,
           3,
           0,
           0,
           3,
           3,
           0,
           0,
           3,
           3,
           0,
           0,
           0,
           3,
           3,
           3,
           0,
           2,
           0,
           1,
           0,
           0,
           0,
           0,
           0,
           1,
           3,
           0,
           2,
           3,
           0,
           4,
           3,
           3,
           0,
           3,
           0,
           3,
           0,
           0,
           0,
           3,
           0,
           3,
           0,
           3,
           0,
           0,
           0,
           0,
           4,
           0,
           3,
           0,
           0,
           1,
           3,
           0,
           3,
           0,
           0,
           0,
           0,
           3,
           3,
           3,
           0,
           0,
           3,
           0,
           0,
           0,
           0,
           3,
           0,
           0,
           2,
           1,
           4,
           0,
           0,
           3,
           0,
           3,
           3,
           2,
           0,
           0,
           0,
           0,
           2,
           0,
           0,
           0,
           1,
           3,
           0,
           0,
           3,
           3,
           3,
           0,
           0,
           0,
           0,
           0,
           3,
           3,
           0,
           3,
           0,
           2,
           0,
           3,
           0,
           1,
           0,
           0,
           0,
           0,
           0,
           3,
           3,
           0,
           0,
           3,
           0,
           1,
           3,
           2,
           2,
           3,
           3,
           0,
           0,
           0,
           2,
           0,
           3,
           0,
           0,
           2,
           0,
           0,
           2,
           3,
           0,
           2,
           3,
           0,
           0,
           3,
           4,
           0,
           0,
           0,
           0,
           0,
           0,
           0,
           3,
           3,
           0,
           3,
           0,
           0,
           0,
           0,
           0,
           0,
           0,
           0,
           2,
           0,
           2,
           1,
           0,
           3,
           0,
           1,
           2,
           3,
           3,
           0,
           0,
           0,
           0,
           3,
           0,
           3,
           3,
           0,
           3,
           3,
           4,
           0,
           3,
           0,
           3,
           1,
           3,
           3,
           0,
           3,
           3,
           3,
           3,
           2,
           0,
           0,
           1,
           3,
           3,
           3,
           0,
           3,
           3,
           0,
           3,
           2,
           0,
           0,
           0,
           0,
           0,
           3
          ],
          "coloraxis": "coloraxis",
          "symbol": "circle"
         },
         "mode": "markers",
         "name": "",
         "scene": "scene",
         "showlegend": false,
         "type": "scatter3d",
         "x": [
          0.0806183476555398,
          -0.35120335273830294,
          -0.5009591722218307,
          1.1904828357376673,
          -1.067296632211499,
          -0.9757793578615355,
          -1.3732938427673107,
          0.06570176558891326,
          -1.6019273364162996,
          -0.6429780869533944,
          0.11074323340185926,
          -0.11430793733386117,
          -0.8504802731180833,
          -0.9620351584545513,
          -0.7695429457639369,
          -1.2028980390776258,
          -1.5828867268812714,
          -0.667762039481778,
          -1.0448083459561273,
          -0.25602133994562826,
          3.1269004092058754,
          -1.4564968195952612,
          -0.1360385052152109,
          0.2230972002475564,
          -0.9473249832651205,
          0.43926144473038503,
          -0.9605137977256212,
          -0.717498136987482,
          0.6344580837011755,
          -1.469348893092872,
          -1.1010011757572589,
          -0.6764020871739707,
          0.40773146423955064,
          -1.1923931001829495,
          -0.36321836422821896,
          -0.956959719806459,
          2.1247717129524304,
          -1.2093436685782897,
          -0.09059622336830442,
          2.0297705177881333,
          -0.7913899845547189,
          -1.1513053058580769,
          1.8886434135659378,
          -0.2851446511294091,
          -0.7096917938036907,
          0.04296320836742695,
          -0.4592216358215526,
          -0.7480083277692327,
          -1.7579973929556907,
          -1.0942166906453759,
          -0.027214446838299988,
          -0.9985616353915522,
          -0.9213530044380223,
          -1.2360116260626999,
          2.3800568040334347,
          0.07577754751820073,
          -0.055013684704920435,
          -0.7382525276937006,
          -0.6981134884492409,
          -0.8231038788769802,
          -0.6513234350510337,
          0.6866278070164443,
          -0.9060741283188285,
          0.48053999742173037,
          0.9763311920800795,
          -0.8386623590990838,
          -0.7049911564590989,
          -0.536878131001879,
          0.3017666493221316,
          -0.9210237460513276,
          -1.614271887737867,
          -1.3625105707900311,
          2.141303376709101,
          0.23299383810060714,
          0.05583065286158087,
          -1.4546027533631127,
          0.6363929815946177,
          -0.6096616121231543,
          -0.11820986219437643,
          -1.197123280077324,
          -0.8812065207946925,
          0.5996548856424991,
          -0.29776587916116715,
          -1.5378255530718814,
          -0.714392443420715,
          1.14952337710498,
          -0.41631863021577553,
          -0.7134169787578581,
          -1.6691287741469498,
          -1.7757690808671946,
          0.035650017240411155,
          0.16203791631758271,
          0.2641642484846928,
          -0.8379141611110108,
          -0.22842562760899643,
          -0.6949002878853124,
          2.64441559801049,
          -1.5780724468186151,
          -0.7627239938222885,
          -0.6843981383711915,
          -1.7739069020562375,
          -1.1151859086972182,
          2.412801961834515,
          -0.029647317809298798,
          -1.392630656757853,
          0.044696496039523415,
          -0.028407124289808766,
          -0.5008476210947623,
          -1.0100589803661166,
          -0.21655158141941278,
          1.5557813501612885,
          -1.769459139297437,
          -0.13948793141221044,
          -1.0842069461049415,
          0.6334328462883344,
          -0.5051355039102097,
          -0.5215775294171006,
          -0.7785016789379107,
          -0.1177841635039518,
          -0.4082518948652444,
          0.5289678636090014,
          -1.2535507198169304,
          2.3105491887668226,
          -0.44074532890150664,
          -0.9856778944897334,
          -1.7497388456038099,
          -0.908526760264966,
          6.999039393388199,
          -0.9625452634755325,
          0.31339174495094657,
          -0.7210323822271298,
          -0.6222424763390905,
          3.3438407552162914,
          1.1781674259692134,
          -1.2913329078208275,
          -0.5911949671318821,
          -1.7748549340272244,
          -0.25879851786677877,
          -0.7906652667840893,
          -1.0099717345517532,
          0.366852935340325,
          0.32392808149757335,
          0.6293165805716905,
          -0.5009591722218307,
          -0.6013725326493451,
          0.6658092019670308,
          -0.6559878948051556,
          -0.8391893112525506,
          -1.283893849509421,
          -1.5181842608766727,
          0.5997266398460619,
          -0.9065020675839354,
          -1.7023491703251807,
          -0.10526781385483508,
          3.1047106396328745,
          5.260862292494531,
          -1.5345744779449146,
          -1.1208456706770424,
          -0.48764865349230346,
          -1.1940094367225906,
          0.1401041925710431,
          -0.1783462337902777,
          4.521150236841558,
          -1.5180531695091777,
          -1.3175170640488183,
          -1.6728555964240144,
          -1.7595624806439198,
          -0.6391312737220941,
          -1.5102449956410622,
          -0.3327495906370277,
          -0.8564050248668178,
          2.471621743276999,
          0.5456446492884925,
          -1.201262242424757,
          -1.3840262314554734,
          0.20376780574747158,
          0.136499770905071,
          1.5554361620928936,
          -1.6944376018408505,
          -0.45155673615465464,
          -0.3701454879069802,
          -0.8298778512414345,
          -1.9155739800040419,
          0.8203194965714569,
          -0.34141831073422213,
          -1.2502774674753432,
          -0.4417768149816179,
          -0.6210009151942435,
          0.9126242401260152,
          -0.1101509507936625,
          2.247812470334188,
          -1.7591421609858744,
          0.8864552303175302,
          -0.4848146524136341,
          -0.9173476561810564,
          -1.289159562221351,
          -0.45178690727709225,
          -1.5133407067216567,
          0.31904214382797913,
          -0.7635507785277388,
          -0.7290405385895871,
          -1.2595572896587877,
          -0.39385649682397383,
          -0.8826213565044315,
          2.2038420451676957,
          0.5826480277476644,
          -0.28241680501245126,
          1.976033477219029,
          1.1174392484012436,
          0.7220965929531037,
          -1.3811031167746097,
          -0.5601727501795495,
          -0.8555975465244094,
          0.0962809722015624,
          -1.4911437690136409,
          1.056793141524688,
          -1.7737303201922374,
          -0.48110779726565234,
          -0.39284499319669264,
          -1.0970612386836152,
          -0.934206168568207,
          1.460153925399022,
          -1.0589700960919548,
          -0.7200118281331119,
          -0.034031000190681504,
          -0.10202044333255222,
          -1.3320796842023281,
          -1.1292379146085885,
          -0.3904900343350226,
          2.4791123771152757,
          -0.9515623999386099,
          -0.7708173082296175,
          -1.0711594356952567,
          -1.2767549919246655,
          -1.137066155114466,
          -0.8226647020584211,
          -0.626785926104872,
          0.8674233514300455,
          -0.23588458821622027,
          -1.1728568702732767,
          1.6465123668765036,
          -0.533064102076092,
          -1.5472143368828548,
          -1.030941984527411,
          -1.1667646227139414,
          -1.7720343892505412,
          -0.42226073556532273,
          0.09416255600981158,
          -0.19458114265414206,
          -0.034031000190681504,
          -1.1001874062443968,
          -0.5699489828006411,
          2.3777540139694877,
          -1.5950566587219022,
          -0.0527604032440048,
          -0.690631849010548,
          1.6409248908384861,
          0.924559939219443,
          1.8318343391714402,
          1.723614900010372,
          -1.055332194809431,
          -1.711056402697308,
          -0.5073708460206053,
          -1.2214929261830343,
          1.9650670125637921,
          -1.0429311769278253,
          0.40232352756858947,
          0.22622712900382383,
          -0.9828947216970025,
          -0.18522227655072332,
          1.0204603625612076,
          4.144962276545941,
          -0.5082242520695814,
          -0.25791150481677383,
          -0.7739918114180767,
          -0.006406816083433159,
          1.644036831989214,
          2.7785920640544917,
          5.010781022484646,
          -1.525328854620802,
          4.839710373917759,
          1.1552730669343831,
          -0.23453904063455466,
          0.24432167460385362,
          1.0627447895722733,
          -1.379700850691188,
          -1.7749186775284065,
          0.7565317398516853,
          -0.5196593902579473,
          0.4297594436709842,
          0.6542539272803497,
          -1.7697725020287958,
          0.37695578654173073,
          -0.253768284096377,
          -1.5237002252295277,
          0.015443028392160746,
          1.9826276313960198,
          -1.5178525250991153,
          -1.1222612507025553,
          -1.2285695661069533,
          -0.7102923710435867,
          -1.073491968246484,
          -0.1284683253409162
         ],
         "y": [
          -0.10424024767530721,
          0.3520289383396472,
          -0.9453193300835601,
          -1.1660574267761354,
          -0.7103866116593831,
          -1.0815652116848304,
          -0.009635586976796617,
          0.49646422526333345,
          -0.8289004227778468,
          1.9133003386446799,
          -0.23124578156047496,
          -0.7631277823396215,
          -0.7702868875667181,
          -0.4949654767240288,
          -0.8477495572286721,
          0.5951288381442323,
          -0.6122942251268739,
          -0.9136331125092327,
          0.6577936789661032,
          -1.0680306885885584,
          5.484468520127084,
          -0.6917312109023562,
          -0.9562564381288031,
          -1.07385006219895,
          -0.8926237969505516,
          -0.3984401180471815,
          -0.9099400072231466,
          -0.7806238230390624,
          0.9932795486937054,
          -0.47763822551888363,
          -0.8899342685142101,
          -0.2478807962649734,
          -0.8233009569464894,
          -0.9667746689596259,
          -0.4181072582540998,
          -0.6673965791857347,
          4.687722004628271,
          -0.916661068402682,
          4.650211814946447,
          5.311407923075316,
          -1.1232369568759333,
          -0.046894394539429674,
          3.0382427438711,
          -0.14297699590768692,
          -0.7305334435921951,
          5.64361054600356,
          -0.8971392337721983,
          -0.7496037749909727,
          -0.6851459360438089,
          0.34620007412155535,
          4.324740464064026,
          -0.7181761201107855,
          -0.8009860711330383,
          -0.9883282025763152,
          2.406254878992163,
          -0.15907986920516437,
          -0.6736548292767246,
          -1.101419945348876,
          -0.8716205527028587,
          -0.8186454780041778,
          -0.9254562602682828,
          0.28782272623788974,
          1.0207217066256369,
          5.353725115956786,
          -1.3003887311488889,
          1.4819779994893658,
          -1.0171863321975312,
          -0.7903890321232561,
          3.8040499165088972,
          -0.9736220503220361,
          -0.647926686643846,
          -0.7069930947857668,
          4.581807283823953,
          4.4556783126202255,
          -1.0285015180879262,
          -0.5946332627274855,
          -0.8461032457046804,
          -1.0578905710336548,
          -0.6675480194330984,
          -0.9263135171080216,
          -0.7556063430401393,
          -1.2527299437789705,
          -0.4925779957839721,
          -0.8833946162814971,
          -0.6503069763393113,
          -1.497769434217692,
          -1.0358116419282255,
          -1.0942865614005908,
          -0.5909669761843493,
          -0.6984747336302006,
          0.1838400169078375,
          0.8934444167081307,
          -1.146157994353952,
          -1.1685445595877866,
          4.012256627084338,
          -0.7364607003369222,
          5.846730057969339,
          -0.7464157998950586,
          -0.215904212455539,
          -1.043682745350775,
          -0.6939161828328492,
          -0.7756987317635654,
          3.671783479910939,
          0.03282530619903676,
          -0.8795149549241122,
          3.5324309032185295,
          -1.031507763516459,
          -0.9442230726763042,
          -2.3746744346868573,
          -0.6677561416058777,
          0.45803646781990137,
          -0.6746850471078754,
          -0.7431512059995852,
          -0.9257890869974514,
          -0.6933478108660219,
          0.14282156336611532,
          -0.9834335632313367,
          -0.9336788877293573,
          -1.052084877421219,
          -1.1586807601418712,
          0.32482964587739055,
          -0.6815125843013036,
          -1.292037188261829,
          -1.1689274196801172,
          0.07094516411481419,
          -0.8105863816853884,
          0.42869643139649416,
          -0.6342459012337639,
          -0.9335778684976805,
          -0.95481557137592,
          0.4471637197201089,
          -0.9492810925488319,
          5.6165462694842585,
          -1.5123865980490414,
          1.0411642881765122,
          -1.3973575541667334,
          -0.6993890383223841,
          0.38247727493254824,
          -0.9796877631977501,
          -0.6389505652226859,
          -0.11654400212302721,
          -0.4308694960991112,
          -0.9891897813437517,
          -0.9453193300835601,
          0.6222927501317714,
          -0.47641197773676763,
          -0.4728259775486708,
          1.0039690987153527,
          -0.8158364542189588,
          -0.8593379411962252,
          -1.3723569358861831,
          0.9806060002627006,
          -0.7220826269818268,
          4.62459746668978,
          5.45287053499811,
          -0.646164502989625,
          -0.6722060021474465,
          0.10080386364685048,
          -0.8250321704424758,
          -1.0076190375470577,
          -1.2143821379598472,
          -0.6861173363425779,
          4.638074099515894,
          -0.9876526805745062,
          -0.6481624117671845,
          -0.6367423377388153,
          -0.7779925910325033,
          3.4308701220850253,
          -1.0293708756034703,
          -1.0900488648128137,
          -1.031209818538729,
          5.969301297201157,
          -0.9877184839655538,
          -0.8755588437430549,
          -0.8582511913488857,
          -0.6076487853397825,
          -1.1851330326760814,
          -1.0074977595390182,
          -0.7881795884408164,
          -1.0590131625913957,
          -0.3496447719537556,
          -0.9285515147869603,
          -0.795552488361729,
          0.044574797917626974,
          -1.0933502736949605,
          -1.02284251322802,
          -0.7945182946841697,
          0.6135471810198366,
          1.7786980917148107,
          0.4575723118783863,
          -1.633665038538492,
          -0.5449733521003448,
          2.183138704226332,
          -0.6089955436067835,
          -0.8582945446179365,
          -0.785998645760185,
          -0.8866347626776744,
          -0.9068794227415782,
          -1.1661886387649705,
          0.19832451385235933,
          -0.9418416622178682,
          -0.9506299985245801,
          -0.8092446396022686,
          -0.9379672839029385,
          1.9306444234447553,
          -0.5092363990383646,
          3.7562939897721255,
          6.4658386418678555,
          -0.153136525588766,
          -1.1141594584219972,
          -0.7990055309271258,
          -1.0395847240727196,
          -0.9340069685041668,
          5.0800765903159295,
          -1.1116106541198265,
          -0.9561728997035746,
          -0.6913985577506101,
          -1.1497222460494054,
          2.630800423752087,
          -0.7691151753932278,
          -0.8297334815250789,
          5.268940439135933,
          -1.745393525427334,
          -0.7059042540735713,
          4.293113945582637,
          0.24812040862105061,
          -0.8884511583832497,
          -0.7960228045901108,
          -0.9173876093723078,
          1.5039456046595514,
          -0.6813355248623805,
          -1.0005491484334987,
          -1.0789218059543326,
          -0.6442665980159512,
          -0.22877284839958642,
          -0.7854603466827171,
          -0.9665816806596825,
          0.36220600500415256,
          -1.1107317770262255,
          -0.9488940760858942,
          -1.0062395035882403,
          -0.9917602642478195,
          -0.49731499439257887,
          -0.9988787894911734,
          -0.8658689727156899,
          -0.586597391966664,
          -1.0755282617791844,
          -1.0924409553056866,
          -0.9637444551412913,
          4.293113945582637,
          -1.0636251469627678,
          2.374908816595618,
          3.5656043612064825,
          -0.7951760495079425,
          0.07888302113667758,
          -0.3363277458094734,
          3.5116021405702162,
          2.2533465225817975,
          -0.4185338175023068,
          -1.3710301161496556,
          -1.0216606448429562,
          -0.5948530052319247,
          -1.0289461387805563,
          -0.8649007381603099,
          -1.3856852227602157,
          -0.9435632128566815,
          0.2257594545305888,
          -0.47571557466008396,
          0.8029692780043701,
          -1.155797605876467,
          -0.2515600217012701,
          1.2177291641023227,
          -1.0681981411816592,
          -0.7917893793854159,
          -0.5105067757466594,
          -0.7989648003002333,
          5.164637915967825,
          -1.832650042813143,
          -0.406309840489149,
          -0.7075979094262134,
          -1.8367293656849382,
          -0.7213480397694342,
          -0.032451710270234566,
          -0.48644621627282825,
          2.4583560276179366,
          -0.6750452118704358,
          -0.7000154711265303,
          6.087541903615224,
          -0.7883135506336653,
          -1.0387426812074954,
          -1.0125182379475706,
          -0.8589990329811532,
          1.0208847069475973,
          0.5037039368759452,
          -0.6960331394401768,
          -0.8567271102477125,
          4.884641296417273,
          -0.987068339144812,
          -0.16241056437789358,
          -0.8490803760694237,
          -0.6324608621566372,
          0.5771446098193522,
          -0.723702722096139
         ],
         "z": [
          -0.518184395800586,
          -1.3034821700864234,
          0.17127964076237287,
          0.503403026279156,
          0.38380747301979906,
          0.6669844569283796,
          0.514737219040413,
          -0.2081347813226515,
          -1.0540037518751695,
          -1.2546979029893743,
          1.3571909062587775,
          -0.0011493907784949353,
          0.27364018429501213,
          -0.5549634676235636,
          0.2026062276780855,
          -0.426933999894972,
          -1.687470115636898,
          0.1401668156372765,
          -0.48980662190990515,
          0.5511761303017143,
          3.1673549427618632,
          -1.904982462384719,
          0.1490783688068179,
          0.6352660944011862,
          -0.0026552499428313947,
          1.2376970558944511,
          0.03131210973546661,
          -0.2985162864880738,
          0.8563921863224344,
          -1.7052049723365361,
          0.2332454219530294,
          -0.14519633259587644,
          1.0711789817113793,
          -0.13828151504953878,
          0.27480321399190777,
          -0.2814446580219067,
          -0.31655543568412947,
          -0.0689978688831854,
          -2.2221018483308845,
          2.1294878775969766,
          0.01984213067192235,
          0.3529211696460597,
          0.8628494174119444,
          -0.10678667830889052,
          1.155299007578754,
          -3.055478050502657,
          1.99864639824425,
          0.011129400074576828,
          -1.77061445288806,
          -1.3950988929419603,
          -2.3736839835563406,
          0.6035634186540355,
          0.4958416335588592,
          -0.24468372786182568,
          -0.6188560621829747,
          -0.17040612495074214,
          0.7616004518266042,
          0.7235569499496123,
          -0.1536559481739534,
          0.3235593702889451,
          0.3456876689699056,
          -0.6685077839716355,
          -1.3218275796368926,
          -2.4038950825952594,
          0.04567168631127361,
          -1.7925355961279632,
          0.5695119708118903,
          0.3887852314306219,
          -0.11896977506674011,
          -0.27974206815570846,
          -1.761717050370072,
          0.3279779695195616,
          -2.312615627248995,
          -1.9042282126700893,
          0.3497751475572651,
          -1.8935269658956573,
          0.8925326024474736,
          0.4215541761134224,
          0.685534894992111,
          -0.1793486349433333,
          -0.045745011768021177,
          -0.28368478035638944,
          0.35240020397759825,
          0.7311144241520317,
          0.5567148246273214,
          -0.06535699837281328,
          0.43202534266334974,
          -0.24818944720395952,
          -1.120375006845163,
          -1.891727637905395,
          0.0768815098667029,
          0.003010610638725611,
          0.4743229190098774,
          0.5151412506318123,
          -2.225226331998024,
          0.20859074386502569,
          2.235916772026709,
          0.46054990252487404,
          0.03513484070427398,
          0.44685689296240744,
          -1.8502871844134758,
          0.6385580201938602,
          0.16106008700270003,
          0.0038048116910138555,
          -0.442979237491047,
          -1.8567492258794975,
          0.6569693743002782,
          0.1685243238704889,
          6.592909532335321,
          0.1667490229401369,
          -0.14185503358391116,
          -1.8901145932025025,
          0.3842702507197076,
          -0.43372300289187093,
          0.04219901669049063,
          0.5175672028276751,
          0.3766706595414511,
          0.15716236627823812,
          0.30856122427019006,
          -0.559968108483947,
          0.26269693674859396,
          -0.8866765814720494,
          1.4175159587397177,
          0.168663486707457,
          -1.532754746375179,
          -1.1925487046164984,
          -1.0880717031588754,
          4.508935932663799,
          -0.1532965518531068,
          -0.4746134449005188,
          -0.33814803070612176,
          0.5458375192000284,
          1.5150894979048282,
          -0.368926491647144,
          -0.8768303298952839,
          1.3432117702695536,
          -1.8881612247187496,
          -0.36266359775282886,
          0.5638546223976031,
          -0.34486600172461923,
          1.2683742399638964,
          -0.7152749286757624,
          -0.09433623368330313,
          0.17127964076237287,
          -0.6411126882774858,
          0.6607115683799019,
          -0.5151225704845959,
          -0.3283474988230002,
          -0.34465189123600837,
          0.12052345205618448,
          -0.2773719631427125,
          -1.2763268160261312,
          -1.89609098827551,
          -2.5043300430624686,
          1.1057369445769387,
          6.375773905103958,
          0.23035331171835333,
          0.04857394953936675,
          1.2778702159978779,
          -0.4219104021942035,
          -0.09228225895712083,
          0.28442995784170694,
          -2.2858869949383305,
          -0.3334413176868959,
          -1.7377303392384849,
          -1.4650852791049829,
          -0.6110350682254252,
          -1.1178143044993973,
          -0.36342682544175736,
          0.06965898145139474,
          0.05868460428053056,
          3.311352932597782,
          -0.03387201044662769,
          -0.2154483823616341,
          0.10364875088754613,
          1.1457172022014834,
          0.24181766429166054,
          0.3074561890624806,
          -0.14752485719959135,
          -0.05236370065482418,
          -0.9491691778793709,
          0.6250720913307299,
          -1.811359211474592,
          -0.029080034176145478,
          0.36546954182195024,
          1.1018624684417833,
          0.7588138411980553,
          -0.3774015561664326,
          -0.889382984950607,
          -0.6903829649357787,
          -0.01292060982793769,
          -2.2762672897755403,
          3.595380407061824,
          0.2782685083044496,
          -0.3384672804612002,
          0.5812861724216501,
          -0.41819987724096674,
          0.01751476710960692,
          0.1402704333207155,
          2.261381933215392,
          -0.015616044312879218,
          0.19182832369666605,
          0.3782687716880273,
          -0.6963558591433222,
          0.539572986798301,
          1.8170703732596887,
          -2.1858328001036256,
          -0.9623719317736473,
          2.386418539829604,
          -0.4844661379198244,
          -0.1969374140161566,
          0.16440914626163847,
          0.1087962217070159,
          -2.31438444676462,
          0.17120025844146652,
          -1.1764499440945757,
          -1.8684925298839694,
          -0.10697306594214154,
          -1.5893132442268918,
          -0.2657489505688607,
          0.07785955609588407,
          -2.3977119772577624,
          3.9492963463735222,
          0.38202423017710707,
          -2.3692792745166478,
          -0.23874314436127608,
          -0.21771515449816803,
          -0.7030402510166984,
          2.045131091608248,
          4.6800984812714885,
          0.9524284523095383,
          -0.007704588868377382,
          0.3856779102497927,
          -0.07572926453532922,
          -1.207662133338747,
          0.28519793899643264,
          0.37143606634245196,
          0.8929983777346003,
          0.3912007319065159,
          -0.1337024596548892,
          0.3668634740855383,
          0.1946791504643068,
          -0.47325631242259203,
          -0.18041547854972406,
          0.1394671285819041,
          -2.0741038803600587,
          -0.19958260675288375,
          -1.0789290463827719,
          -1.0004742699348834,
          -2.3692792745166478,
          -1.0921514894675743,
          -1.5149367942829999,
          0.5027138537002588,
          0.23110738248247098,
          0.374507877396217,
          -0.23482707985862938,
          3.4102723843135947,
          -0.39865836842109204,
          -0.8129556306879243,
          -0.8649111604581847,
          1.144186975510706,
          -0.8261549981261601,
          0.3613513547761947,
          -0.021701722971790474,
          0.5270314164715267,
          -0.11468531972611429,
          0.9023102464765346,
          1.4436759189981099,
          -0.6208841614926528,
          0.21285326290209156,
          0.2423397781327888,
          7.044895628322625,
          0.39185172583632755,
          0.4643036351671531,
          -0.07293025366489127,
          1.8907964160670068,
          0.4272534723299485,
          -2.075101357790014,
          -0.509216164393993,
          0.4204967854575532,
          -1.0054918427415893,
          -0.38022157157088887,
          0.44406847651399817,
          0.025783677359635847,
          -0.7308632090688058,
          -1.0106517835869044,
          -1.8865867579233875,
          3.3401916165004963,
          1.4704702096431914,
          -0.1506508239551147,
          0.31059171953000647,
          -0.3137156878279075,
          0.6148984434619014,
          0.4279902489433045,
          -0.3441629022035051,
          0.3941849090262276,
          -0.8532149886033462,
          -0.3361203942461882,
          -1.231375330795766,
          -0.314635397220824,
          -0.23781486558001286,
          1.2796460248138959,
          0.19435771898417098
         ]
        }
       ],
       "layout": {
        "coloraxis": {
         "colorbar": {
          "title": {
           "text": "km_cluster"
          }
         },
         "colorscale": [
          [
           0,
           "#0d0887"
          ],
          [
           0.1111111111111111,
           "#46039f"
          ],
          [
           0.2222222222222222,
           "#7201a8"
          ],
          [
           0.3333333333333333,
           "#9c179e"
          ],
          [
           0.4444444444444444,
           "#bd3786"
          ],
          [
           0.5555555555555556,
           "#d8576b"
          ],
          [
           0.6666666666666666,
           "#ed7953"
          ],
          [
           0.7777777777777778,
           "#fb9f3a"
          ],
          [
           0.8888888888888888,
           "#fdca26"
          ],
          [
           1,
           "#f0f921"
          ]
         ]
        },
        "legend": {
         "tracegroupgap": 0
        },
        "margin": {
         "t": 60
        },
        "scene": {
         "domain": {
          "x": [
           0,
           1
          ],
          "y": [
           0,
           1
          ]
         },
         "xaxis": {
          "title": {
           "text": "PC1"
          }
         },
         "yaxis": {
          "title": {
           "text": "PC2"
          }
         },
         "zaxis": {
          "title": {
           "text": "PC3"
          }
         }
        },
        "template": {
         "data": {
          "bar": [
           {
            "error_x": {
             "color": "#2a3f5f"
            },
            "error_y": {
             "color": "#2a3f5f"
            },
            "marker": {
             "line": {
              "color": "#E5ECF6",
              "width": 0.5
             },
             "pattern": {
              "fillmode": "overlay",
              "size": 10,
              "solidity": 0.2
             }
            },
            "type": "bar"
           }
          ],
          "barpolar": [
           {
            "marker": {
             "line": {
              "color": "#E5ECF6",
              "width": 0.5
             },
             "pattern": {
              "fillmode": "overlay",
              "size": 10,
              "solidity": 0.2
             }
            },
            "type": "barpolar"
           }
          ],
          "carpet": [
           {
            "aaxis": {
             "endlinecolor": "#2a3f5f",
             "gridcolor": "white",
             "linecolor": "white",
             "minorgridcolor": "white",
             "startlinecolor": "#2a3f5f"
            },
            "baxis": {
             "endlinecolor": "#2a3f5f",
             "gridcolor": "white",
             "linecolor": "white",
             "minorgridcolor": "white",
             "startlinecolor": "#2a3f5f"
            },
            "type": "carpet"
           }
          ],
          "choropleth": [
           {
            "colorbar": {
             "outlinewidth": 0,
             "ticks": ""
            },
            "type": "choropleth"
           }
          ],
          "contour": [
           {
            "colorbar": {
             "outlinewidth": 0,
             "ticks": ""
            },
            "colorscale": [
             [
              0,
              "#0d0887"
             ],
             [
              0.1111111111111111,
              "#46039f"
             ],
             [
              0.2222222222222222,
              "#7201a8"
             ],
             [
              0.3333333333333333,
              "#9c179e"
             ],
             [
              0.4444444444444444,
              "#bd3786"
             ],
             [
              0.5555555555555556,
              "#d8576b"
             ],
             [
              0.6666666666666666,
              "#ed7953"
             ],
             [
              0.7777777777777778,
              "#fb9f3a"
             ],
             [
              0.8888888888888888,
              "#fdca26"
             ],
             [
              1,
              "#f0f921"
             ]
            ],
            "type": "contour"
           }
          ],
          "contourcarpet": [
           {
            "colorbar": {
             "outlinewidth": 0,
             "ticks": ""
            },
            "type": "contourcarpet"
           }
          ],
          "heatmap": [
           {
            "colorbar": {
             "outlinewidth": 0,
             "ticks": ""
            },
            "colorscale": [
             [
              0,
              "#0d0887"
             ],
             [
              0.1111111111111111,
              "#46039f"
             ],
             [
              0.2222222222222222,
              "#7201a8"
             ],
             [
              0.3333333333333333,
              "#9c179e"
             ],
             [
              0.4444444444444444,
              "#bd3786"
             ],
             [
              0.5555555555555556,
              "#d8576b"
             ],
             [
              0.6666666666666666,
              "#ed7953"
             ],
             [
              0.7777777777777778,
              "#fb9f3a"
             ],
             [
              0.8888888888888888,
              "#fdca26"
             ],
             [
              1,
              "#f0f921"
             ]
            ],
            "type": "heatmap"
           }
          ],
          "heatmapgl": [
           {
            "colorbar": {
             "outlinewidth": 0,
             "ticks": ""
            },
            "colorscale": [
             [
              0,
              "#0d0887"
             ],
             [
              0.1111111111111111,
              "#46039f"
             ],
             [
              0.2222222222222222,
              "#7201a8"
             ],
             [
              0.3333333333333333,
              "#9c179e"
             ],
             [
              0.4444444444444444,
              "#bd3786"
             ],
             [
              0.5555555555555556,
              "#d8576b"
             ],
             [
              0.6666666666666666,
              "#ed7953"
             ],
             [
              0.7777777777777778,
              "#fb9f3a"
             ],
             [
              0.8888888888888888,
              "#fdca26"
             ],
             [
              1,
              "#f0f921"
             ]
            ],
            "type": "heatmapgl"
           }
          ],
          "histogram": [
           {
            "marker": {
             "pattern": {
              "fillmode": "overlay",
              "size": 10,
              "solidity": 0.2
             }
            },
            "type": "histogram"
           }
          ],
          "histogram2d": [
           {
            "colorbar": {
             "outlinewidth": 0,
             "ticks": ""
            },
            "colorscale": [
             [
              0,
              "#0d0887"
             ],
             [
              0.1111111111111111,
              "#46039f"
             ],
             [
              0.2222222222222222,
              "#7201a8"
             ],
             [
              0.3333333333333333,
              "#9c179e"
             ],
             [
              0.4444444444444444,
              "#bd3786"
             ],
             [
              0.5555555555555556,
              "#d8576b"
             ],
             [
              0.6666666666666666,
              "#ed7953"
             ],
             [
              0.7777777777777778,
              "#fb9f3a"
             ],
             [
              0.8888888888888888,
              "#fdca26"
             ],
             [
              1,
              "#f0f921"
             ]
            ],
            "type": "histogram2d"
           }
          ],
          "histogram2dcontour": [
           {
            "colorbar": {
             "outlinewidth": 0,
             "ticks": ""
            },
            "colorscale": [
             [
              0,
              "#0d0887"
             ],
             [
              0.1111111111111111,
              "#46039f"
             ],
             [
              0.2222222222222222,
              "#7201a8"
             ],
             [
              0.3333333333333333,
              "#9c179e"
             ],
             [
              0.4444444444444444,
              "#bd3786"
             ],
             [
              0.5555555555555556,
              "#d8576b"
             ],
             [
              0.6666666666666666,
              "#ed7953"
             ],
             [
              0.7777777777777778,
              "#fb9f3a"
             ],
             [
              0.8888888888888888,
              "#fdca26"
             ],
             [
              1,
              "#f0f921"
             ]
            ],
            "type": "histogram2dcontour"
           }
          ],
          "mesh3d": [
           {
            "colorbar": {
             "outlinewidth": 0,
             "ticks": ""
            },
            "type": "mesh3d"
           }
          ],
          "parcoords": [
           {
            "line": {
             "colorbar": {
              "outlinewidth": 0,
              "ticks": ""
             }
            },
            "type": "parcoords"
           }
          ],
          "pie": [
           {
            "automargin": true,
            "type": "pie"
           }
          ],
          "scatter": [
           {
            "fillpattern": {
             "fillmode": "overlay",
             "size": 10,
             "solidity": 0.2
            },
            "type": "scatter"
           }
          ],
          "scatter3d": [
           {
            "line": {
             "colorbar": {
              "outlinewidth": 0,
              "ticks": ""
             }
            },
            "marker": {
             "colorbar": {
              "outlinewidth": 0,
              "ticks": ""
             }
            },
            "type": "scatter3d"
           }
          ],
          "scattercarpet": [
           {
            "marker": {
             "colorbar": {
              "outlinewidth": 0,
              "ticks": ""
             }
            },
            "type": "scattercarpet"
           }
          ],
          "scattergeo": [
           {
            "marker": {
             "colorbar": {
              "outlinewidth": 0,
              "ticks": ""
             }
            },
            "type": "scattergeo"
           }
          ],
          "scattergl": [
           {
            "marker": {
             "colorbar": {
              "outlinewidth": 0,
              "ticks": ""
             }
            },
            "type": "scattergl"
           }
          ],
          "scattermapbox": [
           {
            "marker": {
             "colorbar": {
              "outlinewidth": 0,
              "ticks": ""
             }
            },
            "type": "scattermapbox"
           }
          ],
          "scatterpolar": [
           {
            "marker": {
             "colorbar": {
              "outlinewidth": 0,
              "ticks": ""
             }
            },
            "type": "scatterpolar"
           }
          ],
          "scatterpolargl": [
           {
            "marker": {
             "colorbar": {
              "outlinewidth": 0,
              "ticks": ""
             }
            },
            "type": "scatterpolargl"
           }
          ],
          "scatterternary": [
           {
            "marker": {
             "colorbar": {
              "outlinewidth": 0,
              "ticks": ""
             }
            },
            "type": "scatterternary"
           }
          ],
          "surface": [
           {
            "colorbar": {
             "outlinewidth": 0,
             "ticks": ""
            },
            "colorscale": [
             [
              0,
              "#0d0887"
             ],
             [
              0.1111111111111111,
              "#46039f"
             ],
             [
              0.2222222222222222,
              "#7201a8"
             ],
             [
              0.3333333333333333,
              "#9c179e"
             ],
             [
              0.4444444444444444,
              "#bd3786"
             ],
             [
              0.5555555555555556,
              "#d8576b"
             ],
             [
              0.6666666666666666,
              "#ed7953"
             ],
             [
              0.7777777777777778,
              "#fb9f3a"
             ],
             [
              0.8888888888888888,
              "#fdca26"
             ],
             [
              1,
              "#f0f921"
             ]
            ],
            "type": "surface"
           }
          ],
          "table": [
           {
            "cells": {
             "fill": {
              "color": "#EBF0F8"
             },
             "line": {
              "color": "white"
             }
            },
            "header": {
             "fill": {
              "color": "#C8D4E3"
             },
             "line": {
              "color": "white"
             }
            },
            "type": "table"
           }
          ]
         },
         "layout": {
          "annotationdefaults": {
           "arrowcolor": "#2a3f5f",
           "arrowhead": 0,
           "arrowwidth": 1
          },
          "autotypenumbers": "strict",
          "coloraxis": {
           "colorbar": {
            "outlinewidth": 0,
            "ticks": ""
           }
          },
          "colorscale": {
           "diverging": [
            [
             0,
             "#8e0152"
            ],
            [
             0.1,
             "#c51b7d"
            ],
            [
             0.2,
             "#de77ae"
            ],
            [
             0.3,
             "#f1b6da"
            ],
            [
             0.4,
             "#fde0ef"
            ],
            [
             0.5,
             "#f7f7f7"
            ],
            [
             0.6,
             "#e6f5d0"
            ],
            [
             0.7,
             "#b8e186"
            ],
            [
             0.8,
             "#7fbc41"
            ],
            [
             0.9,
             "#4d9221"
            ],
            [
             1,
             "#276419"
            ]
           ],
           "sequential": [
            [
             0,
             "#0d0887"
            ],
            [
             0.1111111111111111,
             "#46039f"
            ],
            [
             0.2222222222222222,
             "#7201a8"
            ],
            [
             0.3333333333333333,
             "#9c179e"
            ],
            [
             0.4444444444444444,
             "#bd3786"
            ],
            [
             0.5555555555555556,
             "#d8576b"
            ],
            [
             0.6666666666666666,
             "#ed7953"
            ],
            [
             0.7777777777777778,
             "#fb9f3a"
            ],
            [
             0.8888888888888888,
             "#fdca26"
            ],
            [
             1,
             "#f0f921"
            ]
           ],
           "sequentialminus": [
            [
             0,
             "#0d0887"
            ],
            [
             0.1111111111111111,
             "#46039f"
            ],
            [
             0.2222222222222222,
             "#7201a8"
            ],
            [
             0.3333333333333333,
             "#9c179e"
            ],
            [
             0.4444444444444444,
             "#bd3786"
            ],
            [
             0.5555555555555556,
             "#d8576b"
            ],
            [
             0.6666666666666666,
             "#ed7953"
            ],
            [
             0.7777777777777778,
             "#fb9f3a"
            ],
            [
             0.8888888888888888,
             "#fdca26"
            ],
            [
             1,
             "#f0f921"
            ]
           ]
          },
          "colorway": [
           "#636efa",
           "#EF553B",
           "#00cc96",
           "#ab63fa",
           "#FFA15A",
           "#19d3f3",
           "#FF6692",
           "#B6E880",
           "#FF97FF",
           "#FECB52"
          ],
          "font": {
           "color": "#2a3f5f"
          },
          "geo": {
           "bgcolor": "white",
           "lakecolor": "white",
           "landcolor": "#E5ECF6",
           "showlakes": true,
           "showland": true,
           "subunitcolor": "white"
          },
          "hoverlabel": {
           "align": "left"
          },
          "hovermode": "closest",
          "mapbox": {
           "style": "light"
          },
          "paper_bgcolor": "white",
          "plot_bgcolor": "#E5ECF6",
          "polar": {
           "angularaxis": {
            "gridcolor": "white",
            "linecolor": "white",
            "ticks": ""
           },
           "bgcolor": "#E5ECF6",
           "radialaxis": {
            "gridcolor": "white",
            "linecolor": "white",
            "ticks": ""
           }
          },
          "scene": {
           "xaxis": {
            "backgroundcolor": "#E5ECF6",
            "gridcolor": "white",
            "gridwidth": 2,
            "linecolor": "white",
            "showbackground": true,
            "ticks": "",
            "zerolinecolor": "white"
           },
           "yaxis": {
            "backgroundcolor": "#E5ECF6",
            "gridcolor": "white",
            "gridwidth": 2,
            "linecolor": "white",
            "showbackground": true,
            "ticks": "",
            "zerolinecolor": "white"
           },
           "zaxis": {
            "backgroundcolor": "#E5ECF6",
            "gridcolor": "white",
            "gridwidth": 2,
            "linecolor": "white",
            "showbackground": true,
            "ticks": "",
            "zerolinecolor": "white"
           }
          },
          "shapedefaults": {
           "line": {
            "color": "#2a3f5f"
           }
          },
          "ternary": {
           "aaxis": {
            "gridcolor": "white",
            "linecolor": "white",
            "ticks": ""
           },
           "baxis": {
            "gridcolor": "white",
            "linecolor": "white",
            "ticks": ""
           },
           "bgcolor": "#E5ECF6",
           "caxis": {
            "gridcolor": "white",
            "linecolor": "white",
            "ticks": ""
           }
          },
          "title": {
           "x": 0.05
          },
          "xaxis": {
           "automargin": true,
           "gridcolor": "white",
           "linecolor": "white",
           "ticks": "",
           "title": {
            "standoff": 15
           },
           "zerolinecolor": "white",
           "zerolinewidth": 2
          },
          "yaxis": {
           "automargin": true,
           "gridcolor": "white",
           "linecolor": "white",
           "ticks": "",
           "title": {
            "standoff": 15
           },
           "zerolinecolor": "white",
           "zerolinewidth": 2
          }
         }
        }
       }
      }
     },
     "metadata": {},
     "output_type": "display_data"
    }
   ],
   "source": [
    "fig = px.scatter_3d(data_normal, x='PC1', y='PC2', z='PC3',\n",
    "              color='km_cluster')\n",
    "fig.show()"
   ]
  },
  {
   "cell_type": "code",
   "execution_count": 18,
   "metadata": {},
   "outputs": [
    {
     "data": {
      "application/vnd.plotly.v1+json": {
       "config": {
        "plotlyServerURL": "https://plot.ly"
       },
       "data": [
        {
         "hovertemplate": "PC1=%{x}<br>PC2=%{y}<br>PC3=%{z}<br>gmm_cluster=%{marker.color}<extra></extra>",
         "legendgroup": "",
         "marker": {
          "color": [
           3,
           3,
           0,
           3,
           0,
           0,
           3,
           3,
           0,
           2,
           3,
           0,
           0,
           0,
           0,
           3,
           0,
           0,
           3,
           0,
           1,
           0,
           0,
           0,
           0,
           3,
           0,
           0,
           3,
           0,
           0,
           3,
           3,
           0,
           3,
           0,
           1,
           0,
           2,
           1,
           0,
           3,
           1,
           3,
           0,
           2,
           0,
           0,
           0,
           3,
           2,
           0,
           0,
           0,
           1,
           3,
           3,
           0,
           0,
           0,
           0,
           3,
           2,
           2,
           3,
           2,
           0,
           0,
           1,
           0,
           0,
           0,
           1,
           2,
           0,
           0,
           3,
           0,
           3,
           0,
           0,
           3,
           3,
           0,
           0,
           3,
           0,
           0,
           0,
           0,
           3,
           3,
           0,
           0,
           2,
           0,
           1,
           0,
           3,
           0,
           0,
           0,
           1,
           3,
           0,
           2,
           0,
           0,
           4,
           3,
           3,
           0,
           0,
           0,
           3,
           3,
           0,
           0,
           0,
           0,
           3,
           0,
           3,
           0,
           3,
           0,
           2,
           4,
           0,
           3,
           3,
           0,
           1,
           3,
           2,
           0,
           0,
           3,
           0,
           0,
           3,
           3,
           3,
           0,
           2,
           3,
           3,
           3,
           0,
           0,
           3,
           2,
           0,
           2,
           1,
           4,
           0,
           3,
           0,
           0,
           3,
           3,
           1,
           0,
           0,
           0,
           0,
           2,
           0,
           0,
           0,
           1,
           3,
           0,
           0,
           3,
           3,
           3,
           0,
           0,
           3,
           0,
           0,
           3,
           0,
           0,
           0,
           2,
           2,
           3,
           3,
           0,
           1,
           0,
           0,
           0,
           0,
           0,
           3,
           3,
           0,
           0,
           0,
           0,
           1,
           3,
           2,
           1,
           3,
           3,
           0,
           0,
           0,
           2,
           0,
           3,
           0,
           0,
           2,
           0,
           0,
           1,
           4,
           0,
           2,
           3,
           0,
           0,
           0,
           4,
           0,
           0,
           0,
           0,
           3,
           0,
           0,
           3,
           0,
           0,
           3,
           0,
           0,
           0,
           0,
           0,
           0,
           3,
           3,
           2,
           0,
           2,
           1,
           0,
           3,
           3,
           1,
           2,
           3,
           3,
           0,
           0,
           0,
           0,
           3,
           0,
           3,
           3,
           2,
           0,
           3,
           4,
           0,
           0,
           0,
           0,
           1,
           3,
           3,
           0,
           3,
           3,
           3,
           3,
           2,
           0,
           0,
           1,
           0,
           3,
           3,
           0,
           3,
           3,
           0,
           0,
           1,
           0,
           3,
           0,
           0,
           3,
           0
          ],
          "coloraxis": "coloraxis",
          "symbol": "circle"
         },
         "mode": "markers",
         "name": "",
         "scene": "scene",
         "showlegend": false,
         "type": "scatter3d",
         "x": [
          0.0806183476555398,
          -0.35120335273830294,
          -0.5009591722218307,
          1.1904828357376673,
          -1.067296632211499,
          -0.9757793578615355,
          -1.3732938427673107,
          0.06570176558891326,
          -1.6019273364162996,
          -0.6429780869533944,
          0.11074323340185926,
          -0.11430793733386117,
          -0.8504802731180833,
          -0.9620351584545513,
          -0.7695429457639369,
          -1.2028980390776258,
          -1.5828867268812714,
          -0.667762039481778,
          -1.0448083459561273,
          -0.25602133994562826,
          3.1269004092058754,
          -1.4564968195952612,
          -0.1360385052152109,
          0.2230972002475564,
          -0.9473249832651205,
          0.43926144473038503,
          -0.9605137977256212,
          -0.717498136987482,
          0.6344580837011755,
          -1.469348893092872,
          -1.1010011757572589,
          -0.6764020871739707,
          0.40773146423955064,
          -1.1923931001829495,
          -0.36321836422821896,
          -0.956959719806459,
          2.1247717129524304,
          -1.2093436685782897,
          -0.09059622336830442,
          2.0297705177881333,
          -0.7913899845547189,
          -1.1513053058580769,
          1.8886434135659378,
          -0.2851446511294091,
          -0.7096917938036907,
          0.04296320836742695,
          -0.4592216358215526,
          -0.7480083277692327,
          -1.7579973929556907,
          -1.0942166906453759,
          -0.027214446838299988,
          -0.9985616353915522,
          -0.9213530044380223,
          -1.2360116260626999,
          2.3800568040334347,
          0.07577754751820073,
          -0.055013684704920435,
          -0.7382525276937006,
          -0.6981134884492409,
          -0.8231038788769802,
          -0.6513234350510337,
          0.6866278070164443,
          -0.9060741283188285,
          0.48053999742173037,
          0.9763311920800795,
          -0.8386623590990838,
          -0.7049911564590989,
          -0.536878131001879,
          0.3017666493221316,
          -0.9210237460513276,
          -1.614271887737867,
          -1.3625105707900311,
          2.141303376709101,
          0.23299383810060714,
          0.05583065286158087,
          -1.4546027533631127,
          0.6363929815946177,
          -0.6096616121231543,
          -0.11820986219437643,
          -1.197123280077324,
          -0.8812065207946925,
          0.5996548856424991,
          -0.29776587916116715,
          -1.5378255530718814,
          -0.714392443420715,
          1.14952337710498,
          -0.41631863021577553,
          -0.7134169787578581,
          -1.6691287741469498,
          -1.7757690808671946,
          0.035650017240411155,
          0.16203791631758271,
          0.2641642484846928,
          -0.8379141611110108,
          -0.22842562760899643,
          -0.6949002878853124,
          2.64441559801049,
          -1.5780724468186151,
          -0.7627239938222885,
          -0.6843981383711915,
          -1.7739069020562375,
          -1.1151859086972182,
          2.412801961834515,
          -0.029647317809298798,
          -1.392630656757853,
          0.044696496039523415,
          -0.028407124289808766,
          -0.5008476210947623,
          -1.0100589803661166,
          -0.21655158141941278,
          1.5557813501612885,
          -1.769459139297437,
          -0.13948793141221044,
          -1.0842069461049415,
          0.6334328462883344,
          -0.5051355039102097,
          -0.5215775294171006,
          -0.7785016789379107,
          -0.1177841635039518,
          -0.4082518948652444,
          0.5289678636090014,
          -1.2535507198169304,
          2.3105491887668226,
          -0.44074532890150664,
          -0.9856778944897334,
          -1.7497388456038099,
          -0.908526760264966,
          6.999039393388199,
          -0.9625452634755325,
          0.31339174495094657,
          -0.7210323822271298,
          -0.6222424763390905,
          3.3438407552162914,
          1.1781674259692134,
          -1.2913329078208275,
          -0.5911949671318821,
          -1.7748549340272244,
          -0.25879851786677877,
          -0.7906652667840893,
          -1.0099717345517532,
          0.366852935340325,
          0.32392808149757335,
          0.6293165805716905,
          -0.5009591722218307,
          -0.6013725326493451,
          0.6658092019670308,
          -0.6559878948051556,
          -0.8391893112525506,
          -1.283893849509421,
          -1.5181842608766727,
          0.5997266398460619,
          -0.9065020675839354,
          -1.7023491703251807,
          -0.10526781385483508,
          3.1047106396328745,
          5.260862292494531,
          -1.5345744779449146,
          -1.1208456706770424,
          -0.48764865349230346,
          -1.1940094367225906,
          0.1401041925710431,
          -0.1783462337902777,
          4.521150236841558,
          -1.5180531695091777,
          -1.3175170640488183,
          -1.6728555964240144,
          -1.7595624806439198,
          -0.6391312737220941,
          -1.5102449956410622,
          -0.3327495906370277,
          -0.8564050248668178,
          2.471621743276999,
          0.5456446492884925,
          -1.201262242424757,
          -1.3840262314554734,
          0.20376780574747158,
          0.136499770905071,
          1.5554361620928936,
          -1.6944376018408505,
          -0.45155673615465464,
          -0.3701454879069802,
          -0.8298778512414345,
          -1.9155739800040419,
          0.8203194965714569,
          -0.34141831073422213,
          -1.2502774674753432,
          -0.4417768149816179,
          -0.6210009151942435,
          0.9126242401260152,
          -0.1101509507936625,
          2.247812470334188,
          -1.7591421609858744,
          0.8864552303175302,
          -0.4848146524136341,
          -0.9173476561810564,
          -1.289159562221351,
          -0.45178690727709225,
          -1.5133407067216567,
          0.31904214382797913,
          -0.7635507785277388,
          -0.7290405385895871,
          -1.2595572896587877,
          -0.39385649682397383,
          -0.8826213565044315,
          2.2038420451676957,
          0.5826480277476644,
          -0.28241680501245126,
          1.976033477219029,
          1.1174392484012436,
          0.7220965929531037,
          -1.3811031167746097,
          -0.5601727501795495,
          -0.8555975465244094,
          0.0962809722015624,
          -1.4911437690136409,
          1.056793141524688,
          -1.7737303201922374,
          -0.48110779726565234,
          -0.39284499319669264,
          -1.0970612386836152,
          -0.934206168568207,
          1.460153925399022,
          -1.0589700960919548,
          -0.7200118281331119,
          -0.034031000190681504,
          -0.10202044333255222,
          -1.3320796842023281,
          -1.1292379146085885,
          -0.3904900343350226,
          2.4791123771152757,
          -0.9515623999386099,
          -0.7708173082296175,
          -1.0711594356952567,
          -1.2767549919246655,
          -1.137066155114466,
          -0.8226647020584211,
          -0.626785926104872,
          0.8674233514300455,
          -0.23588458821622027,
          -1.1728568702732767,
          1.6465123668765036,
          -0.533064102076092,
          -1.5472143368828548,
          -1.030941984527411,
          -1.1667646227139414,
          -1.7720343892505412,
          -0.42226073556532273,
          0.09416255600981158,
          -0.19458114265414206,
          -0.034031000190681504,
          -1.1001874062443968,
          -0.5699489828006411,
          2.3777540139694877,
          -1.5950566587219022,
          -0.0527604032440048,
          -0.690631849010548,
          1.6409248908384861,
          0.924559939219443,
          1.8318343391714402,
          1.723614900010372,
          -1.055332194809431,
          -1.711056402697308,
          -0.5073708460206053,
          -1.2214929261830343,
          1.9650670125637921,
          -1.0429311769278253,
          0.40232352756858947,
          0.22622712900382383,
          -0.9828947216970025,
          -0.18522227655072332,
          1.0204603625612076,
          4.144962276545941,
          -0.5082242520695814,
          -0.25791150481677383,
          -0.7739918114180767,
          -0.006406816083433159,
          1.644036831989214,
          2.7785920640544917,
          5.010781022484646,
          -1.525328854620802,
          4.839710373917759,
          1.1552730669343831,
          -0.23453904063455466,
          0.24432167460385362,
          1.0627447895722733,
          -1.379700850691188,
          -1.7749186775284065,
          0.7565317398516853,
          -0.5196593902579473,
          0.4297594436709842,
          0.6542539272803497,
          -1.7697725020287958,
          0.37695578654173073,
          -0.253768284096377,
          -1.5237002252295277,
          0.015443028392160746,
          1.9826276313960198,
          -1.5178525250991153,
          -1.1222612507025553,
          -1.2285695661069533,
          -0.7102923710435867,
          -1.073491968246484,
          -0.1284683253409162
         ],
         "y": [
          -0.10424024767530721,
          0.3520289383396472,
          -0.9453193300835601,
          -1.1660574267761354,
          -0.7103866116593831,
          -1.0815652116848304,
          -0.009635586976796617,
          0.49646422526333345,
          -0.8289004227778468,
          1.9133003386446799,
          -0.23124578156047496,
          -0.7631277823396215,
          -0.7702868875667181,
          -0.4949654767240288,
          -0.8477495572286721,
          0.5951288381442323,
          -0.6122942251268739,
          -0.9136331125092327,
          0.6577936789661032,
          -1.0680306885885584,
          5.484468520127084,
          -0.6917312109023562,
          -0.9562564381288031,
          -1.07385006219895,
          -0.8926237969505516,
          -0.3984401180471815,
          -0.9099400072231466,
          -0.7806238230390624,
          0.9932795486937054,
          -0.47763822551888363,
          -0.8899342685142101,
          -0.2478807962649734,
          -0.8233009569464894,
          -0.9667746689596259,
          -0.4181072582540998,
          -0.6673965791857347,
          4.687722004628271,
          -0.916661068402682,
          4.650211814946447,
          5.311407923075316,
          -1.1232369568759333,
          -0.046894394539429674,
          3.0382427438711,
          -0.14297699590768692,
          -0.7305334435921951,
          5.64361054600356,
          -0.8971392337721983,
          -0.7496037749909727,
          -0.6851459360438089,
          0.34620007412155535,
          4.324740464064026,
          -0.7181761201107855,
          -0.8009860711330383,
          -0.9883282025763152,
          2.406254878992163,
          -0.15907986920516437,
          -0.6736548292767246,
          -1.101419945348876,
          -0.8716205527028587,
          -0.8186454780041778,
          -0.9254562602682828,
          0.28782272623788974,
          1.0207217066256369,
          5.353725115956786,
          -1.3003887311488889,
          1.4819779994893658,
          -1.0171863321975312,
          -0.7903890321232561,
          3.8040499165088972,
          -0.9736220503220361,
          -0.647926686643846,
          -0.7069930947857668,
          4.581807283823953,
          4.4556783126202255,
          -1.0285015180879262,
          -0.5946332627274855,
          -0.8461032457046804,
          -1.0578905710336548,
          -0.6675480194330984,
          -0.9263135171080216,
          -0.7556063430401393,
          -1.2527299437789705,
          -0.4925779957839721,
          -0.8833946162814971,
          -0.6503069763393113,
          -1.497769434217692,
          -1.0358116419282255,
          -1.0942865614005908,
          -0.5909669761843493,
          -0.6984747336302006,
          0.1838400169078375,
          0.8934444167081307,
          -1.146157994353952,
          -1.1685445595877866,
          4.012256627084338,
          -0.7364607003369222,
          5.846730057969339,
          -0.7464157998950586,
          -0.215904212455539,
          -1.043682745350775,
          -0.6939161828328492,
          -0.7756987317635654,
          3.671783479910939,
          0.03282530619903676,
          -0.8795149549241122,
          3.5324309032185295,
          -1.031507763516459,
          -0.9442230726763042,
          -2.3746744346868573,
          -0.6677561416058777,
          0.45803646781990137,
          -0.6746850471078754,
          -0.7431512059995852,
          -0.9257890869974514,
          -0.6933478108660219,
          0.14282156336611532,
          -0.9834335632313367,
          -0.9336788877293573,
          -1.052084877421219,
          -1.1586807601418712,
          0.32482964587739055,
          -0.6815125843013036,
          -1.292037188261829,
          -1.1689274196801172,
          0.07094516411481419,
          -0.8105863816853884,
          0.42869643139649416,
          -0.6342459012337639,
          -0.9335778684976805,
          -0.95481557137592,
          0.4471637197201089,
          -0.9492810925488319,
          5.6165462694842585,
          -1.5123865980490414,
          1.0411642881765122,
          -1.3973575541667334,
          -0.6993890383223841,
          0.38247727493254824,
          -0.9796877631977501,
          -0.6389505652226859,
          -0.11654400212302721,
          -0.4308694960991112,
          -0.9891897813437517,
          -0.9453193300835601,
          0.6222927501317714,
          -0.47641197773676763,
          -0.4728259775486708,
          1.0039690987153527,
          -0.8158364542189588,
          -0.8593379411962252,
          -1.3723569358861831,
          0.9806060002627006,
          -0.7220826269818268,
          4.62459746668978,
          5.45287053499811,
          -0.646164502989625,
          -0.6722060021474465,
          0.10080386364685048,
          -0.8250321704424758,
          -1.0076190375470577,
          -1.2143821379598472,
          -0.6861173363425779,
          4.638074099515894,
          -0.9876526805745062,
          -0.6481624117671845,
          -0.6367423377388153,
          -0.7779925910325033,
          3.4308701220850253,
          -1.0293708756034703,
          -1.0900488648128137,
          -1.031209818538729,
          5.969301297201157,
          -0.9877184839655538,
          -0.8755588437430549,
          -0.8582511913488857,
          -0.6076487853397825,
          -1.1851330326760814,
          -1.0074977595390182,
          -0.7881795884408164,
          -1.0590131625913957,
          -0.3496447719537556,
          -0.9285515147869603,
          -0.795552488361729,
          0.044574797917626974,
          -1.0933502736949605,
          -1.02284251322802,
          -0.7945182946841697,
          0.6135471810198366,
          1.7786980917148107,
          0.4575723118783863,
          -1.633665038538492,
          -0.5449733521003448,
          2.183138704226332,
          -0.6089955436067835,
          -0.8582945446179365,
          -0.785998645760185,
          -0.8866347626776744,
          -0.9068794227415782,
          -1.1661886387649705,
          0.19832451385235933,
          -0.9418416622178682,
          -0.9506299985245801,
          -0.8092446396022686,
          -0.9379672839029385,
          1.9306444234447553,
          -0.5092363990383646,
          3.7562939897721255,
          6.4658386418678555,
          -0.153136525588766,
          -1.1141594584219972,
          -0.7990055309271258,
          -1.0395847240727196,
          -0.9340069685041668,
          5.0800765903159295,
          -1.1116106541198265,
          -0.9561728997035746,
          -0.6913985577506101,
          -1.1497222460494054,
          2.630800423752087,
          -0.7691151753932278,
          -0.8297334815250789,
          5.268940439135933,
          -1.745393525427334,
          -0.7059042540735713,
          4.293113945582637,
          0.24812040862105061,
          -0.8884511583832497,
          -0.7960228045901108,
          -0.9173876093723078,
          1.5039456046595514,
          -0.6813355248623805,
          -1.0005491484334987,
          -1.0789218059543326,
          -0.6442665980159512,
          -0.22877284839958642,
          -0.7854603466827171,
          -0.9665816806596825,
          0.36220600500415256,
          -1.1107317770262255,
          -0.9488940760858942,
          -1.0062395035882403,
          -0.9917602642478195,
          -0.49731499439257887,
          -0.9988787894911734,
          -0.8658689727156899,
          -0.586597391966664,
          -1.0755282617791844,
          -1.0924409553056866,
          -0.9637444551412913,
          4.293113945582637,
          -1.0636251469627678,
          2.374908816595618,
          3.5656043612064825,
          -0.7951760495079425,
          0.07888302113667758,
          -0.3363277458094734,
          3.5116021405702162,
          2.2533465225817975,
          -0.4185338175023068,
          -1.3710301161496556,
          -1.0216606448429562,
          -0.5948530052319247,
          -1.0289461387805563,
          -0.8649007381603099,
          -1.3856852227602157,
          -0.9435632128566815,
          0.2257594545305888,
          -0.47571557466008396,
          0.8029692780043701,
          -1.155797605876467,
          -0.2515600217012701,
          1.2177291641023227,
          -1.0681981411816592,
          -0.7917893793854159,
          -0.5105067757466594,
          -0.7989648003002333,
          5.164637915967825,
          -1.832650042813143,
          -0.406309840489149,
          -0.7075979094262134,
          -1.8367293656849382,
          -0.7213480397694342,
          -0.032451710270234566,
          -0.48644621627282825,
          2.4583560276179366,
          -0.6750452118704358,
          -0.7000154711265303,
          6.087541903615224,
          -0.7883135506336653,
          -1.0387426812074954,
          -1.0125182379475706,
          -0.8589990329811532,
          1.0208847069475973,
          0.5037039368759452,
          -0.6960331394401768,
          -0.8567271102477125,
          4.884641296417273,
          -0.987068339144812,
          -0.16241056437789358,
          -0.8490803760694237,
          -0.6324608621566372,
          0.5771446098193522,
          -0.723702722096139
         ],
         "z": [
          -0.518184395800586,
          -1.3034821700864234,
          0.17127964076237287,
          0.503403026279156,
          0.38380747301979906,
          0.6669844569283796,
          0.514737219040413,
          -0.2081347813226515,
          -1.0540037518751695,
          -1.2546979029893743,
          1.3571909062587775,
          -0.0011493907784949353,
          0.27364018429501213,
          -0.5549634676235636,
          0.2026062276780855,
          -0.426933999894972,
          -1.687470115636898,
          0.1401668156372765,
          -0.48980662190990515,
          0.5511761303017143,
          3.1673549427618632,
          -1.904982462384719,
          0.1490783688068179,
          0.6352660944011862,
          -0.0026552499428313947,
          1.2376970558944511,
          0.03131210973546661,
          -0.2985162864880738,
          0.8563921863224344,
          -1.7052049723365361,
          0.2332454219530294,
          -0.14519633259587644,
          1.0711789817113793,
          -0.13828151504953878,
          0.27480321399190777,
          -0.2814446580219067,
          -0.31655543568412947,
          -0.0689978688831854,
          -2.2221018483308845,
          2.1294878775969766,
          0.01984213067192235,
          0.3529211696460597,
          0.8628494174119444,
          -0.10678667830889052,
          1.155299007578754,
          -3.055478050502657,
          1.99864639824425,
          0.011129400074576828,
          -1.77061445288806,
          -1.3950988929419603,
          -2.3736839835563406,
          0.6035634186540355,
          0.4958416335588592,
          -0.24468372786182568,
          -0.6188560621829747,
          -0.17040612495074214,
          0.7616004518266042,
          0.7235569499496123,
          -0.1536559481739534,
          0.3235593702889451,
          0.3456876689699056,
          -0.6685077839716355,
          -1.3218275796368926,
          -2.4038950825952594,
          0.04567168631127361,
          -1.7925355961279632,
          0.5695119708118903,
          0.3887852314306219,
          -0.11896977506674011,
          -0.27974206815570846,
          -1.761717050370072,
          0.3279779695195616,
          -2.312615627248995,
          -1.9042282126700893,
          0.3497751475572651,
          -1.8935269658956573,
          0.8925326024474736,
          0.4215541761134224,
          0.685534894992111,
          -0.1793486349433333,
          -0.045745011768021177,
          -0.28368478035638944,
          0.35240020397759825,
          0.7311144241520317,
          0.5567148246273214,
          -0.06535699837281328,
          0.43202534266334974,
          -0.24818944720395952,
          -1.120375006845163,
          -1.891727637905395,
          0.0768815098667029,
          0.003010610638725611,
          0.4743229190098774,
          0.5151412506318123,
          -2.225226331998024,
          0.20859074386502569,
          2.235916772026709,
          0.46054990252487404,
          0.03513484070427398,
          0.44685689296240744,
          -1.8502871844134758,
          0.6385580201938602,
          0.16106008700270003,
          0.0038048116910138555,
          -0.442979237491047,
          -1.8567492258794975,
          0.6569693743002782,
          0.1685243238704889,
          6.592909532335321,
          0.1667490229401369,
          -0.14185503358391116,
          -1.8901145932025025,
          0.3842702507197076,
          -0.43372300289187093,
          0.04219901669049063,
          0.5175672028276751,
          0.3766706595414511,
          0.15716236627823812,
          0.30856122427019006,
          -0.559968108483947,
          0.26269693674859396,
          -0.8866765814720494,
          1.4175159587397177,
          0.168663486707457,
          -1.532754746375179,
          -1.1925487046164984,
          -1.0880717031588754,
          4.508935932663799,
          -0.1532965518531068,
          -0.4746134449005188,
          -0.33814803070612176,
          0.5458375192000284,
          1.5150894979048282,
          -0.368926491647144,
          -0.8768303298952839,
          1.3432117702695536,
          -1.8881612247187496,
          -0.36266359775282886,
          0.5638546223976031,
          -0.34486600172461923,
          1.2683742399638964,
          -0.7152749286757624,
          -0.09433623368330313,
          0.17127964076237287,
          -0.6411126882774858,
          0.6607115683799019,
          -0.5151225704845959,
          -0.3283474988230002,
          -0.34465189123600837,
          0.12052345205618448,
          -0.2773719631427125,
          -1.2763268160261312,
          -1.89609098827551,
          -2.5043300430624686,
          1.1057369445769387,
          6.375773905103958,
          0.23035331171835333,
          0.04857394953936675,
          1.2778702159978779,
          -0.4219104021942035,
          -0.09228225895712083,
          0.28442995784170694,
          -2.2858869949383305,
          -0.3334413176868959,
          -1.7377303392384849,
          -1.4650852791049829,
          -0.6110350682254252,
          -1.1178143044993973,
          -0.36342682544175736,
          0.06965898145139474,
          0.05868460428053056,
          3.311352932597782,
          -0.03387201044662769,
          -0.2154483823616341,
          0.10364875088754613,
          1.1457172022014834,
          0.24181766429166054,
          0.3074561890624806,
          -0.14752485719959135,
          -0.05236370065482418,
          -0.9491691778793709,
          0.6250720913307299,
          -1.811359211474592,
          -0.029080034176145478,
          0.36546954182195024,
          1.1018624684417833,
          0.7588138411980553,
          -0.3774015561664326,
          -0.889382984950607,
          -0.6903829649357787,
          -0.01292060982793769,
          -2.2762672897755403,
          3.595380407061824,
          0.2782685083044496,
          -0.3384672804612002,
          0.5812861724216501,
          -0.41819987724096674,
          0.01751476710960692,
          0.1402704333207155,
          2.261381933215392,
          -0.015616044312879218,
          0.19182832369666605,
          0.3782687716880273,
          -0.6963558591433222,
          0.539572986798301,
          1.8170703732596887,
          -2.1858328001036256,
          -0.9623719317736473,
          2.386418539829604,
          -0.4844661379198244,
          -0.1969374140161566,
          0.16440914626163847,
          0.1087962217070159,
          -2.31438444676462,
          0.17120025844146652,
          -1.1764499440945757,
          -1.8684925298839694,
          -0.10697306594214154,
          -1.5893132442268918,
          -0.2657489505688607,
          0.07785955609588407,
          -2.3977119772577624,
          3.9492963463735222,
          0.38202423017710707,
          -2.3692792745166478,
          -0.23874314436127608,
          -0.21771515449816803,
          -0.7030402510166984,
          2.045131091608248,
          4.6800984812714885,
          0.9524284523095383,
          -0.007704588868377382,
          0.3856779102497927,
          -0.07572926453532922,
          -1.207662133338747,
          0.28519793899643264,
          0.37143606634245196,
          0.8929983777346003,
          0.3912007319065159,
          -0.1337024596548892,
          0.3668634740855383,
          0.1946791504643068,
          -0.47325631242259203,
          -0.18041547854972406,
          0.1394671285819041,
          -2.0741038803600587,
          -0.19958260675288375,
          -1.0789290463827719,
          -1.0004742699348834,
          -2.3692792745166478,
          -1.0921514894675743,
          -1.5149367942829999,
          0.5027138537002588,
          0.23110738248247098,
          0.374507877396217,
          -0.23482707985862938,
          3.4102723843135947,
          -0.39865836842109204,
          -0.8129556306879243,
          -0.8649111604581847,
          1.144186975510706,
          -0.8261549981261601,
          0.3613513547761947,
          -0.021701722971790474,
          0.5270314164715267,
          -0.11468531972611429,
          0.9023102464765346,
          1.4436759189981099,
          -0.6208841614926528,
          0.21285326290209156,
          0.2423397781327888,
          7.044895628322625,
          0.39185172583632755,
          0.4643036351671531,
          -0.07293025366489127,
          1.8907964160670068,
          0.4272534723299485,
          -2.075101357790014,
          -0.509216164393993,
          0.4204967854575532,
          -1.0054918427415893,
          -0.38022157157088887,
          0.44406847651399817,
          0.025783677359635847,
          -0.7308632090688058,
          -1.0106517835869044,
          -1.8865867579233875,
          3.3401916165004963,
          1.4704702096431914,
          -0.1506508239551147,
          0.31059171953000647,
          -0.3137156878279075,
          0.6148984434619014,
          0.4279902489433045,
          -0.3441629022035051,
          0.3941849090262276,
          -0.8532149886033462,
          -0.3361203942461882,
          -1.231375330795766,
          -0.314635397220824,
          -0.23781486558001286,
          1.2796460248138959,
          0.19435771898417098
         ]
        }
       ],
       "layout": {
        "coloraxis": {
         "colorbar": {
          "title": {
           "text": "gmm_cluster"
          }
         },
         "colorscale": [
          [
           0,
           "#0d0887"
          ],
          [
           0.1111111111111111,
           "#46039f"
          ],
          [
           0.2222222222222222,
           "#7201a8"
          ],
          [
           0.3333333333333333,
           "#9c179e"
          ],
          [
           0.4444444444444444,
           "#bd3786"
          ],
          [
           0.5555555555555556,
           "#d8576b"
          ],
          [
           0.6666666666666666,
           "#ed7953"
          ],
          [
           0.7777777777777778,
           "#fb9f3a"
          ],
          [
           0.8888888888888888,
           "#fdca26"
          ],
          [
           1,
           "#f0f921"
          ]
         ]
        },
        "legend": {
         "tracegroupgap": 0
        },
        "margin": {
         "t": 60
        },
        "scene": {
         "domain": {
          "x": [
           0,
           1
          ],
          "y": [
           0,
           1
          ]
         },
         "xaxis": {
          "title": {
           "text": "PC1"
          }
         },
         "yaxis": {
          "title": {
           "text": "PC2"
          }
         },
         "zaxis": {
          "title": {
           "text": "PC3"
          }
         }
        },
        "template": {
         "data": {
          "bar": [
           {
            "error_x": {
             "color": "#2a3f5f"
            },
            "error_y": {
             "color": "#2a3f5f"
            },
            "marker": {
             "line": {
              "color": "#E5ECF6",
              "width": 0.5
             },
             "pattern": {
              "fillmode": "overlay",
              "size": 10,
              "solidity": 0.2
             }
            },
            "type": "bar"
           }
          ],
          "barpolar": [
           {
            "marker": {
             "line": {
              "color": "#E5ECF6",
              "width": 0.5
             },
             "pattern": {
              "fillmode": "overlay",
              "size": 10,
              "solidity": 0.2
             }
            },
            "type": "barpolar"
           }
          ],
          "carpet": [
           {
            "aaxis": {
             "endlinecolor": "#2a3f5f",
             "gridcolor": "white",
             "linecolor": "white",
             "minorgridcolor": "white",
             "startlinecolor": "#2a3f5f"
            },
            "baxis": {
             "endlinecolor": "#2a3f5f",
             "gridcolor": "white",
             "linecolor": "white",
             "minorgridcolor": "white",
             "startlinecolor": "#2a3f5f"
            },
            "type": "carpet"
           }
          ],
          "choropleth": [
           {
            "colorbar": {
             "outlinewidth": 0,
             "ticks": ""
            },
            "type": "choropleth"
           }
          ],
          "contour": [
           {
            "colorbar": {
             "outlinewidth": 0,
             "ticks": ""
            },
            "colorscale": [
             [
              0,
              "#0d0887"
             ],
             [
              0.1111111111111111,
              "#46039f"
             ],
             [
              0.2222222222222222,
              "#7201a8"
             ],
             [
              0.3333333333333333,
              "#9c179e"
             ],
             [
              0.4444444444444444,
              "#bd3786"
             ],
             [
              0.5555555555555556,
              "#d8576b"
             ],
             [
              0.6666666666666666,
              "#ed7953"
             ],
             [
              0.7777777777777778,
              "#fb9f3a"
             ],
             [
              0.8888888888888888,
              "#fdca26"
             ],
             [
              1,
              "#f0f921"
             ]
            ],
            "type": "contour"
           }
          ],
          "contourcarpet": [
           {
            "colorbar": {
             "outlinewidth": 0,
             "ticks": ""
            },
            "type": "contourcarpet"
           }
          ],
          "heatmap": [
           {
            "colorbar": {
             "outlinewidth": 0,
             "ticks": ""
            },
            "colorscale": [
             [
              0,
              "#0d0887"
             ],
             [
              0.1111111111111111,
              "#46039f"
             ],
             [
              0.2222222222222222,
              "#7201a8"
             ],
             [
              0.3333333333333333,
              "#9c179e"
             ],
             [
              0.4444444444444444,
              "#bd3786"
             ],
             [
              0.5555555555555556,
              "#d8576b"
             ],
             [
              0.6666666666666666,
              "#ed7953"
             ],
             [
              0.7777777777777778,
              "#fb9f3a"
             ],
             [
              0.8888888888888888,
              "#fdca26"
             ],
             [
              1,
              "#f0f921"
             ]
            ],
            "type": "heatmap"
           }
          ],
          "heatmapgl": [
           {
            "colorbar": {
             "outlinewidth": 0,
             "ticks": ""
            },
            "colorscale": [
             [
              0,
              "#0d0887"
             ],
             [
              0.1111111111111111,
              "#46039f"
             ],
             [
              0.2222222222222222,
              "#7201a8"
             ],
             [
              0.3333333333333333,
              "#9c179e"
             ],
             [
              0.4444444444444444,
              "#bd3786"
             ],
             [
              0.5555555555555556,
              "#d8576b"
             ],
             [
              0.6666666666666666,
              "#ed7953"
             ],
             [
              0.7777777777777778,
              "#fb9f3a"
             ],
             [
              0.8888888888888888,
              "#fdca26"
             ],
             [
              1,
              "#f0f921"
             ]
            ],
            "type": "heatmapgl"
           }
          ],
          "histogram": [
           {
            "marker": {
             "pattern": {
              "fillmode": "overlay",
              "size": 10,
              "solidity": 0.2
             }
            },
            "type": "histogram"
           }
          ],
          "histogram2d": [
           {
            "colorbar": {
             "outlinewidth": 0,
             "ticks": ""
            },
            "colorscale": [
             [
              0,
              "#0d0887"
             ],
             [
              0.1111111111111111,
              "#46039f"
             ],
             [
              0.2222222222222222,
              "#7201a8"
             ],
             [
              0.3333333333333333,
              "#9c179e"
             ],
             [
              0.4444444444444444,
              "#bd3786"
             ],
             [
              0.5555555555555556,
              "#d8576b"
             ],
             [
              0.6666666666666666,
              "#ed7953"
             ],
             [
              0.7777777777777778,
              "#fb9f3a"
             ],
             [
              0.8888888888888888,
              "#fdca26"
             ],
             [
              1,
              "#f0f921"
             ]
            ],
            "type": "histogram2d"
           }
          ],
          "histogram2dcontour": [
           {
            "colorbar": {
             "outlinewidth": 0,
             "ticks": ""
            },
            "colorscale": [
             [
              0,
              "#0d0887"
             ],
             [
              0.1111111111111111,
              "#46039f"
             ],
             [
              0.2222222222222222,
              "#7201a8"
             ],
             [
              0.3333333333333333,
              "#9c179e"
             ],
             [
              0.4444444444444444,
              "#bd3786"
             ],
             [
              0.5555555555555556,
              "#d8576b"
             ],
             [
              0.6666666666666666,
              "#ed7953"
             ],
             [
              0.7777777777777778,
              "#fb9f3a"
             ],
             [
              0.8888888888888888,
              "#fdca26"
             ],
             [
              1,
              "#f0f921"
             ]
            ],
            "type": "histogram2dcontour"
           }
          ],
          "mesh3d": [
           {
            "colorbar": {
             "outlinewidth": 0,
             "ticks": ""
            },
            "type": "mesh3d"
           }
          ],
          "parcoords": [
           {
            "line": {
             "colorbar": {
              "outlinewidth": 0,
              "ticks": ""
             }
            },
            "type": "parcoords"
           }
          ],
          "pie": [
           {
            "automargin": true,
            "type": "pie"
           }
          ],
          "scatter": [
           {
            "fillpattern": {
             "fillmode": "overlay",
             "size": 10,
             "solidity": 0.2
            },
            "type": "scatter"
           }
          ],
          "scatter3d": [
           {
            "line": {
             "colorbar": {
              "outlinewidth": 0,
              "ticks": ""
             }
            },
            "marker": {
             "colorbar": {
              "outlinewidth": 0,
              "ticks": ""
             }
            },
            "type": "scatter3d"
           }
          ],
          "scattercarpet": [
           {
            "marker": {
             "colorbar": {
              "outlinewidth": 0,
              "ticks": ""
             }
            },
            "type": "scattercarpet"
           }
          ],
          "scattergeo": [
           {
            "marker": {
             "colorbar": {
              "outlinewidth": 0,
              "ticks": ""
             }
            },
            "type": "scattergeo"
           }
          ],
          "scattergl": [
           {
            "marker": {
             "colorbar": {
              "outlinewidth": 0,
              "ticks": ""
             }
            },
            "type": "scattergl"
           }
          ],
          "scattermapbox": [
           {
            "marker": {
             "colorbar": {
              "outlinewidth": 0,
              "ticks": ""
             }
            },
            "type": "scattermapbox"
           }
          ],
          "scatterpolar": [
           {
            "marker": {
             "colorbar": {
              "outlinewidth": 0,
              "ticks": ""
             }
            },
            "type": "scatterpolar"
           }
          ],
          "scatterpolargl": [
           {
            "marker": {
             "colorbar": {
              "outlinewidth": 0,
              "ticks": ""
             }
            },
            "type": "scatterpolargl"
           }
          ],
          "scatterternary": [
           {
            "marker": {
             "colorbar": {
              "outlinewidth": 0,
              "ticks": ""
             }
            },
            "type": "scatterternary"
           }
          ],
          "surface": [
           {
            "colorbar": {
             "outlinewidth": 0,
             "ticks": ""
            },
            "colorscale": [
             [
              0,
              "#0d0887"
             ],
             [
              0.1111111111111111,
              "#46039f"
             ],
             [
              0.2222222222222222,
              "#7201a8"
             ],
             [
              0.3333333333333333,
              "#9c179e"
             ],
             [
              0.4444444444444444,
              "#bd3786"
             ],
             [
              0.5555555555555556,
              "#d8576b"
             ],
             [
              0.6666666666666666,
              "#ed7953"
             ],
             [
              0.7777777777777778,
              "#fb9f3a"
             ],
             [
              0.8888888888888888,
              "#fdca26"
             ],
             [
              1,
              "#f0f921"
             ]
            ],
            "type": "surface"
           }
          ],
          "table": [
           {
            "cells": {
             "fill": {
              "color": "#EBF0F8"
             },
             "line": {
              "color": "white"
             }
            },
            "header": {
             "fill": {
              "color": "#C8D4E3"
             },
             "line": {
              "color": "white"
             }
            },
            "type": "table"
           }
          ]
         },
         "layout": {
          "annotationdefaults": {
           "arrowcolor": "#2a3f5f",
           "arrowhead": 0,
           "arrowwidth": 1
          },
          "autotypenumbers": "strict",
          "coloraxis": {
           "colorbar": {
            "outlinewidth": 0,
            "ticks": ""
           }
          },
          "colorscale": {
           "diverging": [
            [
             0,
             "#8e0152"
            ],
            [
             0.1,
             "#c51b7d"
            ],
            [
             0.2,
             "#de77ae"
            ],
            [
             0.3,
             "#f1b6da"
            ],
            [
             0.4,
             "#fde0ef"
            ],
            [
             0.5,
             "#f7f7f7"
            ],
            [
             0.6,
             "#e6f5d0"
            ],
            [
             0.7,
             "#b8e186"
            ],
            [
             0.8,
             "#7fbc41"
            ],
            [
             0.9,
             "#4d9221"
            ],
            [
             1,
             "#276419"
            ]
           ],
           "sequential": [
            [
             0,
             "#0d0887"
            ],
            [
             0.1111111111111111,
             "#46039f"
            ],
            [
             0.2222222222222222,
             "#7201a8"
            ],
            [
             0.3333333333333333,
             "#9c179e"
            ],
            [
             0.4444444444444444,
             "#bd3786"
            ],
            [
             0.5555555555555556,
             "#d8576b"
            ],
            [
             0.6666666666666666,
             "#ed7953"
            ],
            [
             0.7777777777777778,
             "#fb9f3a"
            ],
            [
             0.8888888888888888,
             "#fdca26"
            ],
            [
             1,
             "#f0f921"
            ]
           ],
           "sequentialminus": [
            [
             0,
             "#0d0887"
            ],
            [
             0.1111111111111111,
             "#46039f"
            ],
            [
             0.2222222222222222,
             "#7201a8"
            ],
            [
             0.3333333333333333,
             "#9c179e"
            ],
            [
             0.4444444444444444,
             "#bd3786"
            ],
            [
             0.5555555555555556,
             "#d8576b"
            ],
            [
             0.6666666666666666,
             "#ed7953"
            ],
            [
             0.7777777777777778,
             "#fb9f3a"
            ],
            [
             0.8888888888888888,
             "#fdca26"
            ],
            [
             1,
             "#f0f921"
            ]
           ]
          },
          "colorway": [
           "#636efa",
           "#EF553B",
           "#00cc96",
           "#ab63fa",
           "#FFA15A",
           "#19d3f3",
           "#FF6692",
           "#B6E880",
           "#FF97FF",
           "#FECB52"
          ],
          "font": {
           "color": "#2a3f5f"
          },
          "geo": {
           "bgcolor": "white",
           "lakecolor": "white",
           "landcolor": "#E5ECF6",
           "showlakes": true,
           "showland": true,
           "subunitcolor": "white"
          },
          "hoverlabel": {
           "align": "left"
          },
          "hovermode": "closest",
          "mapbox": {
           "style": "light"
          },
          "paper_bgcolor": "white",
          "plot_bgcolor": "#E5ECF6",
          "polar": {
           "angularaxis": {
            "gridcolor": "white",
            "linecolor": "white",
            "ticks": ""
           },
           "bgcolor": "#E5ECF6",
           "radialaxis": {
            "gridcolor": "white",
            "linecolor": "white",
            "ticks": ""
           }
          },
          "scene": {
           "xaxis": {
            "backgroundcolor": "#E5ECF6",
            "gridcolor": "white",
            "gridwidth": 2,
            "linecolor": "white",
            "showbackground": true,
            "ticks": "",
            "zerolinecolor": "white"
           },
           "yaxis": {
            "backgroundcolor": "#E5ECF6",
            "gridcolor": "white",
            "gridwidth": 2,
            "linecolor": "white",
            "showbackground": true,
            "ticks": "",
            "zerolinecolor": "white"
           },
           "zaxis": {
            "backgroundcolor": "#E5ECF6",
            "gridcolor": "white",
            "gridwidth": 2,
            "linecolor": "white",
            "showbackground": true,
            "ticks": "",
            "zerolinecolor": "white"
           }
          },
          "shapedefaults": {
           "line": {
            "color": "#2a3f5f"
           }
          },
          "ternary": {
           "aaxis": {
            "gridcolor": "white",
            "linecolor": "white",
            "ticks": ""
           },
           "baxis": {
            "gridcolor": "white",
            "linecolor": "white",
            "ticks": ""
           },
           "bgcolor": "#E5ECF6",
           "caxis": {
            "gridcolor": "white",
            "linecolor": "white",
            "ticks": ""
           }
          },
          "title": {
           "x": 0.05
          },
          "xaxis": {
           "automargin": true,
           "gridcolor": "white",
           "linecolor": "white",
           "ticks": "",
           "title": {
            "standoff": 15
           },
           "zerolinecolor": "white",
           "zerolinewidth": 2
          },
          "yaxis": {
           "automargin": true,
           "gridcolor": "white",
           "linecolor": "white",
           "ticks": "",
           "title": {
            "standoff": 15
           },
           "zerolinecolor": "white",
           "zerolinewidth": 2
          }
         }
        }
       }
      }
     },
     "metadata": {},
     "output_type": "display_data"
    }
   ],
   "source": [
    "fig = px.scatter_3d(data_normal, x='PC1', y='PC2', z='PC3',\n",
    "              color='gmm_cluster')\n",
    "fig.show()"
   ]
  },
  {
   "cell_type": "code",
   "execution_count": 19,
   "metadata": {},
   "outputs": [
    {
     "data": {
      "text/plain": [
       "km_cluster\n",
       "0    165\n",
       "3     92\n",
       "2     27\n",
       "1     14\n",
       "4      5\n",
       "Name: count, dtype: int64"
      ]
     },
     "execution_count": 19,
     "metadata": {},
     "output_type": "execute_result"
    }
   ],
   "source": [
    "data_normal.km_cluster.value_counts()"
   ]
  },
  {
   "cell_type": "code",
   "execution_count": 20,
   "metadata": {},
   "outputs": [
    {
     "data": {
      "text/plain": [
       "gmm_cluster\n",
       "0    158\n",
       "3     90\n",
       "2     27\n",
       "1     22\n",
       "4      6\n",
       "Name: count, dtype: int64"
      ]
     },
     "execution_count": 20,
     "metadata": {},
     "output_type": "execute_result"
    }
   ],
   "source": [
    "data_normal.gmm_cluster.value_counts()"
   ]
  },
  {
   "cell_type": "code",
   "execution_count": 21,
   "metadata": {},
   "outputs": [],
   "source": [
    "data_outlier[\"km_cluster\"] = data_outlier[\"dbs_cluster\"]\n",
    "data_outlier[\"gmm_cluster\"] = data_outlier[\"dbs_cluster\"]\n",
    "\n",
    "data_normal.drop(columns=[\"dbs_cluster\"], inplace = True)\n",
    "data_outlier.drop(columns=[\"dbs_cluster\"], inplace = True)\n",
    "\n",
    "final_data = pd.concat([data_normal, data_outlier])"
   ]
  },
  {
   "cell_type": "code",
   "execution_count": 22,
   "metadata": {},
   "outputs": [
    {
     "data": {
      "text/html": [
       "<div>\n",
       "<style scoped>\n",
       "    .dataframe tbody tr th:only-of-type {\n",
       "        vertical-align: middle;\n",
       "    }\n",
       "\n",
       "    .dataframe tbody tr th {\n",
       "        vertical-align: top;\n",
       "    }\n",
       "\n",
       "    .dataframe thead th {\n",
       "        text-align: right;\n",
       "    }\n",
       "</style>\n",
       "<table border=\"1\" class=\"dataframe\">\n",
       "  <thead>\n",
       "    <tr style=\"text-align: right;\">\n",
       "      <th></th>\n",
       "      <th>energy-kj_100g</th>\n",
       "      <th>sugars_100g</th>\n",
       "      <th>saturated-fat_100g</th>\n",
       "      <th>salt_100g</th>\n",
       "      <th>proteins_100g</th>\n",
       "      <th>fiber_100g</th>\n",
       "      <th>fruit_vege_nut_100g</th>\n",
       "      <th>nutriscore_grade</th>\n",
       "      <th>fit_nutri_grade</th>\n",
       "      <th>PC1</th>\n",
       "      <th>PC2</th>\n",
       "      <th>PC3</th>\n",
       "      <th>km_cluster</th>\n",
       "      <th>gmm_cluster</th>\n",
       "    </tr>\n",
       "  </thead>\n",
       "  <tbody>\n",
       "    <tr>\n",
       "      <th>0</th>\n",
       "      <td>1940.0</td>\n",
       "      <td>29.40</td>\n",
       "      <td>4.41</td>\n",
       "      <td>0.411</td>\n",
       "      <td>5.88</td>\n",
       "      <td>5.88</td>\n",
       "      <td>15.000000</td>\n",
       "      <td>d</td>\n",
       "      <td>c</td>\n",
       "      <td>0.080618</td>\n",
       "      <td>-0.104240</td>\n",
       "      <td>-0.518184</td>\n",
       "      <td>3</td>\n",
       "      <td>3</td>\n",
       "    </tr>\n",
       "    <tr>\n",
       "      <th>1</th>\n",
       "      <td>1958.0</td>\n",
       "      <td>60.00</td>\n",
       "      <td>13.00</td>\n",
       "      <td>0.020</td>\n",
       "      <td>3.30</td>\n",
       "      <td>4.60</td>\n",
       "      <td>23.000000</td>\n",
       "      <td>e</td>\n",
       "      <td>e</td>\n",
       "      <td>-0.351203</td>\n",
       "      <td>0.352029</td>\n",
       "      <td>-1.303482</td>\n",
       "      <td>0</td>\n",
       "      <td>3</td>\n",
       "    </tr>\n",
       "    <tr>\n",
       "      <th>2</th>\n",
       "      <td>1979.0</td>\n",
       "      <td>0.80</td>\n",
       "      <td>2.00</td>\n",
       "      <td>0.900</td>\n",
       "      <td>6.60</td>\n",
       "      <td>4.00</td>\n",
       "      <td>0.000000</td>\n",
       "      <td>b</td>\n",
       "      <td>b</td>\n",
       "      <td>-0.500959</td>\n",
       "      <td>-0.945319</td>\n",
       "      <td>0.171280</td>\n",
       "      <td>0</td>\n",
       "      <td>0</td>\n",
       "    </tr>\n",
       "    <tr>\n",
       "      <th>3</th>\n",
       "      <td>1741.1</td>\n",
       "      <td>14.40</td>\n",
       "      <td>20.20</td>\n",
       "      <td>0.300</td>\n",
       "      <td>11.30</td>\n",
       "      <td>10.20</td>\n",
       "      <td>0.000000</td>\n",
       "      <td>d</td>\n",
       "      <td>d</td>\n",
       "      <td>1.190483</td>\n",
       "      <td>-1.166057</td>\n",
       "      <td>0.503403</td>\n",
       "      <td>3</td>\n",
       "      <td>3</td>\n",
       "    </tr>\n",
       "    <tr>\n",
       "      <th>4</th>\n",
       "      <td>1695.0</td>\n",
       "      <td>18.00</td>\n",
       "      <td>12.00</td>\n",
       "      <td>0.650</td>\n",
       "      <td>8.40</td>\n",
       "      <td>1.60</td>\n",
       "      <td>0.000000</td>\n",
       "      <td>e</td>\n",
       "      <td>e</td>\n",
       "      <td>-1.067297</td>\n",
       "      <td>-0.710387</td>\n",
       "      <td>0.383807</td>\n",
       "      <td>0</td>\n",
       "      <td>0</td>\n",
       "    </tr>\n",
       "    <tr>\n",
       "      <th>...</th>\n",
       "      <td>...</td>\n",
       "      <td>...</td>\n",
       "      <td>...</td>\n",
       "      <td>...</td>\n",
       "      <td>...</td>\n",
       "      <td>...</td>\n",
       "      <td>...</td>\n",
       "      <td>...</td>\n",
       "      <td>...</td>\n",
       "      <td>...</td>\n",
       "      <td>...</td>\n",
       "      <td>...</td>\n",
       "      <td>...</td>\n",
       "      <td>...</td>\n",
       "    </tr>\n",
       "    <tr>\n",
       "      <th>43</th>\n",
       "      <td>995.0</td>\n",
       "      <td>0.00</td>\n",
       "      <td>0.20</td>\n",
       "      <td>0.000</td>\n",
       "      <td>0.00</td>\n",
       "      <td>96.00</td>\n",
       "      <td>0.000000</td>\n",
       "      <td>a</td>\n",
       "      <td>b</td>\n",
       "      <td>21.930169</td>\n",
       "      <td>-6.921935</td>\n",
       "      <td>-5.683486</td>\n",
       "      <td>-1</td>\n",
       "      <td>-1</td>\n",
       "    </tr>\n",
       "    <tr>\n",
       "      <th>79</th>\n",
       "      <td>814.0</td>\n",
       "      <td>0.00</td>\n",
       "      <td>0.20</td>\n",
       "      <td>0.000</td>\n",
       "      <td>0.00</td>\n",
       "      <td>44.70</td>\n",
       "      <td>0.045000</td>\n",
       "      <td>a</td>\n",
       "      <td>b</td>\n",
       "      <td>9.265697</td>\n",
       "      <td>-3.567089</td>\n",
       "      <td>-3.724684</td>\n",
       "      <td>-1</td>\n",
       "      <td>-1</td>\n",
       "    </tr>\n",
       "    <tr>\n",
       "      <th>157</th>\n",
       "      <td>2644.0</td>\n",
       "      <td>0.00</td>\n",
       "      <td>15.90</td>\n",
       "      <td>3.000</td>\n",
       "      <td>46.30</td>\n",
       "      <td>0.00</td>\n",
       "      <td>0.000000</td>\n",
       "      <td>e</td>\n",
       "      <td>e</td>\n",
       "      <td>0.452227</td>\n",
       "      <td>0.598737</td>\n",
       "      <td>9.825860</td>\n",
       "      <td>-1</td>\n",
       "      <td>-1</td>\n",
       "    </tr>\n",
       "    <tr>\n",
       "      <th>171</th>\n",
       "      <td>435.0</td>\n",
       "      <td>5.75</td>\n",
       "      <td>0.50</td>\n",
       "      <td>0.930</td>\n",
       "      <td>1.05</td>\n",
       "      <td>2.60</td>\n",
       "      <td>173.171875</td>\n",
       "      <td>a</td>\n",
       "      <td>a</td>\n",
       "      <td>1.243786</td>\n",
       "      <td>10.118040</td>\n",
       "      <td>-3.035851</td>\n",
       "      <td>-1</td>\n",
       "      <td>-1</td>\n",
       "    </tr>\n",
       "    <tr>\n",
       "      <th>208</th>\n",
       "      <td>2264.0</td>\n",
       "      <td>0.50</td>\n",
       "      <td>3.80</td>\n",
       "      <td>1.250</td>\n",
       "      <td>6.90</td>\n",
       "      <td>76.00</td>\n",
       "      <td>0.000000</td>\n",
       "      <td>c</td>\n",
       "      <td>b</td>\n",
       "      <td>17.267766</td>\n",
       "      <td>-5.695471</td>\n",
       "      <td>-2.310044</td>\n",
       "      <td>-1</td>\n",
       "      <td>-1</td>\n",
       "    </tr>\n",
       "  </tbody>\n",
       "</table>\n",
       "<p>310 rows × 14 columns</p>\n",
       "</div>"
      ],
      "text/plain": [
       "     energy-kj_100g  sugars_100g  saturated-fat_100g  salt_100g  \\\n",
       "0            1940.0        29.40                4.41      0.411   \n",
       "1            1958.0        60.00               13.00      0.020   \n",
       "2            1979.0         0.80                2.00      0.900   \n",
       "3            1741.1        14.40               20.20      0.300   \n",
       "4            1695.0        18.00               12.00      0.650   \n",
       "..              ...          ...                 ...        ...   \n",
       "43            995.0         0.00                0.20      0.000   \n",
       "79            814.0         0.00                0.20      0.000   \n",
       "157          2644.0         0.00               15.90      3.000   \n",
       "171           435.0         5.75                0.50      0.930   \n",
       "208          2264.0         0.50                3.80      1.250   \n",
       "\n",
       "     proteins_100g  fiber_100g  fruit_vege_nut_100g nutriscore_grade  \\\n",
       "0             5.88        5.88            15.000000                d   \n",
       "1             3.30        4.60            23.000000                e   \n",
       "2             6.60        4.00             0.000000                b   \n",
       "3            11.30       10.20             0.000000                d   \n",
       "4             8.40        1.60             0.000000                e   \n",
       "..             ...         ...                  ...              ...   \n",
       "43            0.00       96.00             0.000000                a   \n",
       "79            0.00       44.70             0.045000                a   \n",
       "157          46.30        0.00             0.000000                e   \n",
       "171           1.05        2.60           173.171875                a   \n",
       "208           6.90       76.00             0.000000                c   \n",
       "\n",
       "    fit_nutri_grade        PC1        PC2       PC3  km_cluster  gmm_cluster  \n",
       "0                 c   0.080618  -0.104240 -0.518184           3            3  \n",
       "1                 e  -0.351203   0.352029 -1.303482           0            3  \n",
       "2                 b  -0.500959  -0.945319  0.171280           0            0  \n",
       "3                 d   1.190483  -1.166057  0.503403           3            3  \n",
       "4                 e  -1.067297  -0.710387  0.383807           0            0  \n",
       "..              ...        ...        ...       ...         ...          ...  \n",
       "43                b  21.930169  -6.921935 -5.683486          -1           -1  \n",
       "79                b   9.265697  -3.567089 -3.724684          -1           -1  \n",
       "157               e   0.452227   0.598737  9.825860          -1           -1  \n",
       "171               a   1.243786  10.118040 -3.035851          -1           -1  \n",
       "208               b  17.267766  -5.695471 -2.310044          -1           -1  \n",
       "\n",
       "[310 rows x 14 columns]"
      ]
     },
     "execution_count": 22,
     "metadata": {},
     "output_type": "execute_result"
    }
   ],
   "source": [
    "final_data"
   ]
  },
  {
   "cell_type": "code",
   "execution_count": 23,
   "metadata": {},
   "outputs": [
    {
     "name": "stdout",
     "output_type": "stream",
     "text": [
      "0.3131140539642385\n",
      "0.26845327066283375\n"
     ]
    }
   ],
   "source": [
    "km_s_score = silhouette_score(final_data[[\"PC1\", \"PC2\", \"PC3\"]], final_data[\"km_cluster\"], metric='euclidean')\n",
    "gmm_s_score = silhouette_score(final_data[[\"PC1\", \"PC2\", \"PC3\"]], final_data[\"gmm_cluster\"], metric='euclidean')\n",
    "\n",
    "print(km_s_score)\n",
    "print(gmm_s_score)"
   ]
  },
  {
   "cell_type": "code",
   "execution_count": 24,
   "metadata": {},
   "outputs": [
    {
     "name": "stdout",
     "output_type": "stream",
     "text": [
      "87.00988201328079\n",
      "77.3499720592954\n"
     ]
    }
   ],
   "source": [
    "km_ch_score = calinski_harabasz_score(final_data[[\"PC1\", \"PC2\", \"PC3\"]], final_data[\"km_cluster\"])\n",
    "gmm_ch_score = calinski_harabasz_score(final_data[[\"PC1\", \"PC2\", \"PC3\"]], final_data[\"gmm_cluster\"])\n",
    "\n",
    "print(km_ch_score)\n",
    "print(gmm_ch_score)"
   ]
  },
  {
   "cell_type": "code",
   "execution_count": 25,
   "metadata": {},
   "outputs": [
    {
     "name": "stdout",
     "output_type": "stream",
     "text": [
      "1.4561491734838938\n",
      "1.5253517465525377\n"
     ]
    }
   ],
   "source": [
    "km_db_score = davies_bouldin_score(final_data[[\"PC1\", \"PC2\", \"PC3\"]], final_data[\"km_cluster\"])\n",
    "gmm_db_score = davies_bouldin_score(final_data[[\"PC1\", \"PC2\", \"PC3\"]], final_data[\"gmm_cluster\"])\n",
    "\n",
    "print(km_db_score)\n",
    "print(gmm_db_score)"
   ]
  },
  {
   "cell_type": "code",
   "execution_count": 26,
   "metadata": {},
   "outputs": [],
   "source": [
    "def check_cluster_proportions(df, cluster_col, grade_col):\n",
    "    # Calculate proportions\n",
    "    proportions = df.groupby([cluster_col, grade_col]).size().unstack(fill_value=0)\n",
    "    proportions = proportions.div(proportions.sum(axis=1), axis=0).reset_index()\n",
    "    # Reshape data to long format\n",
    "    proportions_long = pd.melt(proportions, id_vars=cluster_col, var_name=grade_col, value_name='proportion')\n",
    "\n",
    "    custom_color_scale = {'a': 'teal', 'b': '#C5E8B7', 'c': 'orange', 'd': 'pink', 'e': 'maroon'}\n",
    "\n",
    "    fig = px.bar(proportions_long,\n",
    "                x=cluster_col,\n",
    "                y='proportion',\n",
    "                color=grade_col,\n",
    "                title='Proportion Stacked Bar Chart',\n",
    "                labels={'proportion': 'Proportion'},\n",
    "                height=500,\n",
    "                width= 700,\n",
    "                color_discrete_map=custom_color_scale,\n",
    "    )\n",
    "    fig.show()\n"
   ]
  },
  {
   "cell_type": "code",
   "execution_count": 27,
   "metadata": {},
   "outputs": [
    {
     "data": {
      "application/vnd.plotly.v1+json": {
       "config": {
        "plotlyServerURL": "https://plot.ly"
       },
       "data": [
        {
         "alignmentgroup": "True",
         "hovertemplate": "nutriscore_grade=a<br>km_cluster=%{x}<br>Proportion=%{y}<extra></extra>",
         "legendgroup": "a",
         "marker": {
          "color": "teal",
          "pattern": {
           "shape": ""
          }
         },
         "name": "a",
         "offsetgroup": "a",
         "orientation": "v",
         "showlegend": true,
         "textposition": "auto",
         "type": "bar",
         "x": [
          -1,
          0,
          1,
          2,
          3,
          4
         ],
         "xaxis": "x",
         "y": [
          0.7142857142857143,
          0.006060606060606061,
          0.5,
          0.4444444444444444,
          0.2608695652173913,
          0.2
         ],
         "yaxis": "y"
        },
        {
         "alignmentgroup": "True",
         "hovertemplate": "nutriscore_grade=b<br>km_cluster=%{x}<br>Proportion=%{y}<extra></extra>",
         "legendgroup": "b",
         "marker": {
          "color": "#C5E8B7",
          "pattern": {
           "shape": ""
          }
         },
         "name": "b",
         "offsetgroup": "b",
         "orientation": "v",
         "showlegend": true,
         "textposition": "auto",
         "type": "bar",
         "x": [
          -1,
          0,
          1,
          2,
          3,
          4
         ],
         "xaxis": "x",
         "y": [
          0,
          0.14545454545454545,
          0.35714285714285715,
          0.2962962962962963,
          0.1956521739130435,
          0
         ],
         "yaxis": "y"
        },
        {
         "alignmentgroup": "True",
         "hovertemplate": "nutriscore_grade=c<br>km_cluster=%{x}<br>Proportion=%{y}<extra></extra>",
         "legendgroup": "c",
         "marker": {
          "color": "orange",
          "pattern": {
           "shape": ""
          }
         },
         "name": "c",
         "offsetgroup": "c",
         "orientation": "v",
         "showlegend": true,
         "textposition": "auto",
         "type": "bar",
         "x": [
          -1,
          0,
          1,
          2,
          3,
          4
         ],
         "xaxis": "x",
         "y": [
          0.14285714285714285,
          0.15757575757575756,
          0.07142857142857142,
          0.14814814814814814,
          0.29347826086956524,
          0.2
         ],
         "yaxis": "y"
        },
        {
         "alignmentgroup": "True",
         "hovertemplate": "nutriscore_grade=d<br>km_cluster=%{x}<br>Proportion=%{y}<extra></extra>",
         "legendgroup": "d",
         "marker": {
          "color": "pink",
          "pattern": {
           "shape": ""
          }
         },
         "name": "d",
         "offsetgroup": "d",
         "orientation": "v",
         "showlegend": true,
         "textposition": "auto",
         "type": "bar",
         "x": [
          -1,
          0,
          1,
          2,
          3,
          4
         ],
         "xaxis": "x",
         "y": [
          0,
          0.2787878787878788,
          0.07142857142857142,
          0.1111111111111111,
          0.18478260869565216,
          0.6
         ],
         "yaxis": "y"
        },
        {
         "alignmentgroup": "True",
         "hovertemplate": "nutriscore_grade=e<br>km_cluster=%{x}<br>Proportion=%{y}<extra></extra>",
         "legendgroup": "e",
         "marker": {
          "color": "maroon",
          "pattern": {
           "shape": ""
          }
         },
         "name": "e",
         "offsetgroup": "e",
         "orientation": "v",
         "showlegend": true,
         "textposition": "auto",
         "type": "bar",
         "x": [
          -1,
          0,
          1,
          2,
          3,
          4
         ],
         "xaxis": "x",
         "y": [
          0.14285714285714285,
          0.4121212121212121,
          0,
          0,
          0.06521739130434782,
          0
         ],
         "yaxis": "y"
        }
       ],
       "layout": {
        "barmode": "relative",
        "height": 500,
        "legend": {
         "title": {
          "text": "nutriscore_grade"
         },
         "tracegroupgap": 0
        },
        "template": {
         "data": {
          "bar": [
           {
            "error_x": {
             "color": "#2a3f5f"
            },
            "error_y": {
             "color": "#2a3f5f"
            },
            "marker": {
             "line": {
              "color": "#E5ECF6",
              "width": 0.5
             },
             "pattern": {
              "fillmode": "overlay",
              "size": 10,
              "solidity": 0.2
             }
            },
            "type": "bar"
           }
          ],
          "barpolar": [
           {
            "marker": {
             "line": {
              "color": "#E5ECF6",
              "width": 0.5
             },
             "pattern": {
              "fillmode": "overlay",
              "size": 10,
              "solidity": 0.2
             }
            },
            "type": "barpolar"
           }
          ],
          "carpet": [
           {
            "aaxis": {
             "endlinecolor": "#2a3f5f",
             "gridcolor": "white",
             "linecolor": "white",
             "minorgridcolor": "white",
             "startlinecolor": "#2a3f5f"
            },
            "baxis": {
             "endlinecolor": "#2a3f5f",
             "gridcolor": "white",
             "linecolor": "white",
             "minorgridcolor": "white",
             "startlinecolor": "#2a3f5f"
            },
            "type": "carpet"
           }
          ],
          "choropleth": [
           {
            "colorbar": {
             "outlinewidth": 0,
             "ticks": ""
            },
            "type": "choropleth"
           }
          ],
          "contour": [
           {
            "colorbar": {
             "outlinewidth": 0,
             "ticks": ""
            },
            "colorscale": [
             [
              0,
              "#0d0887"
             ],
             [
              0.1111111111111111,
              "#46039f"
             ],
             [
              0.2222222222222222,
              "#7201a8"
             ],
             [
              0.3333333333333333,
              "#9c179e"
             ],
             [
              0.4444444444444444,
              "#bd3786"
             ],
             [
              0.5555555555555556,
              "#d8576b"
             ],
             [
              0.6666666666666666,
              "#ed7953"
             ],
             [
              0.7777777777777778,
              "#fb9f3a"
             ],
             [
              0.8888888888888888,
              "#fdca26"
             ],
             [
              1,
              "#f0f921"
             ]
            ],
            "type": "contour"
           }
          ],
          "contourcarpet": [
           {
            "colorbar": {
             "outlinewidth": 0,
             "ticks": ""
            },
            "type": "contourcarpet"
           }
          ],
          "heatmap": [
           {
            "colorbar": {
             "outlinewidth": 0,
             "ticks": ""
            },
            "colorscale": [
             [
              0,
              "#0d0887"
             ],
             [
              0.1111111111111111,
              "#46039f"
             ],
             [
              0.2222222222222222,
              "#7201a8"
             ],
             [
              0.3333333333333333,
              "#9c179e"
             ],
             [
              0.4444444444444444,
              "#bd3786"
             ],
             [
              0.5555555555555556,
              "#d8576b"
             ],
             [
              0.6666666666666666,
              "#ed7953"
             ],
             [
              0.7777777777777778,
              "#fb9f3a"
             ],
             [
              0.8888888888888888,
              "#fdca26"
             ],
             [
              1,
              "#f0f921"
             ]
            ],
            "type": "heatmap"
           }
          ],
          "heatmapgl": [
           {
            "colorbar": {
             "outlinewidth": 0,
             "ticks": ""
            },
            "colorscale": [
             [
              0,
              "#0d0887"
             ],
             [
              0.1111111111111111,
              "#46039f"
             ],
             [
              0.2222222222222222,
              "#7201a8"
             ],
             [
              0.3333333333333333,
              "#9c179e"
             ],
             [
              0.4444444444444444,
              "#bd3786"
             ],
             [
              0.5555555555555556,
              "#d8576b"
             ],
             [
              0.6666666666666666,
              "#ed7953"
             ],
             [
              0.7777777777777778,
              "#fb9f3a"
             ],
             [
              0.8888888888888888,
              "#fdca26"
             ],
             [
              1,
              "#f0f921"
             ]
            ],
            "type": "heatmapgl"
           }
          ],
          "histogram": [
           {
            "marker": {
             "pattern": {
              "fillmode": "overlay",
              "size": 10,
              "solidity": 0.2
             }
            },
            "type": "histogram"
           }
          ],
          "histogram2d": [
           {
            "colorbar": {
             "outlinewidth": 0,
             "ticks": ""
            },
            "colorscale": [
             [
              0,
              "#0d0887"
             ],
             [
              0.1111111111111111,
              "#46039f"
             ],
             [
              0.2222222222222222,
              "#7201a8"
             ],
             [
              0.3333333333333333,
              "#9c179e"
             ],
             [
              0.4444444444444444,
              "#bd3786"
             ],
             [
              0.5555555555555556,
              "#d8576b"
             ],
             [
              0.6666666666666666,
              "#ed7953"
             ],
             [
              0.7777777777777778,
              "#fb9f3a"
             ],
             [
              0.8888888888888888,
              "#fdca26"
             ],
             [
              1,
              "#f0f921"
             ]
            ],
            "type": "histogram2d"
           }
          ],
          "histogram2dcontour": [
           {
            "colorbar": {
             "outlinewidth": 0,
             "ticks": ""
            },
            "colorscale": [
             [
              0,
              "#0d0887"
             ],
             [
              0.1111111111111111,
              "#46039f"
             ],
             [
              0.2222222222222222,
              "#7201a8"
             ],
             [
              0.3333333333333333,
              "#9c179e"
             ],
             [
              0.4444444444444444,
              "#bd3786"
             ],
             [
              0.5555555555555556,
              "#d8576b"
             ],
             [
              0.6666666666666666,
              "#ed7953"
             ],
             [
              0.7777777777777778,
              "#fb9f3a"
             ],
             [
              0.8888888888888888,
              "#fdca26"
             ],
             [
              1,
              "#f0f921"
             ]
            ],
            "type": "histogram2dcontour"
           }
          ],
          "mesh3d": [
           {
            "colorbar": {
             "outlinewidth": 0,
             "ticks": ""
            },
            "type": "mesh3d"
           }
          ],
          "parcoords": [
           {
            "line": {
             "colorbar": {
              "outlinewidth": 0,
              "ticks": ""
             }
            },
            "type": "parcoords"
           }
          ],
          "pie": [
           {
            "automargin": true,
            "type": "pie"
           }
          ],
          "scatter": [
           {
            "fillpattern": {
             "fillmode": "overlay",
             "size": 10,
             "solidity": 0.2
            },
            "type": "scatter"
           }
          ],
          "scatter3d": [
           {
            "line": {
             "colorbar": {
              "outlinewidth": 0,
              "ticks": ""
             }
            },
            "marker": {
             "colorbar": {
              "outlinewidth": 0,
              "ticks": ""
             }
            },
            "type": "scatter3d"
           }
          ],
          "scattercarpet": [
           {
            "marker": {
             "colorbar": {
              "outlinewidth": 0,
              "ticks": ""
             }
            },
            "type": "scattercarpet"
           }
          ],
          "scattergeo": [
           {
            "marker": {
             "colorbar": {
              "outlinewidth": 0,
              "ticks": ""
             }
            },
            "type": "scattergeo"
           }
          ],
          "scattergl": [
           {
            "marker": {
             "colorbar": {
              "outlinewidth": 0,
              "ticks": ""
             }
            },
            "type": "scattergl"
           }
          ],
          "scattermapbox": [
           {
            "marker": {
             "colorbar": {
              "outlinewidth": 0,
              "ticks": ""
             }
            },
            "type": "scattermapbox"
           }
          ],
          "scatterpolar": [
           {
            "marker": {
             "colorbar": {
              "outlinewidth": 0,
              "ticks": ""
             }
            },
            "type": "scatterpolar"
           }
          ],
          "scatterpolargl": [
           {
            "marker": {
             "colorbar": {
              "outlinewidth": 0,
              "ticks": ""
             }
            },
            "type": "scatterpolargl"
           }
          ],
          "scatterternary": [
           {
            "marker": {
             "colorbar": {
              "outlinewidth": 0,
              "ticks": ""
             }
            },
            "type": "scatterternary"
           }
          ],
          "surface": [
           {
            "colorbar": {
             "outlinewidth": 0,
             "ticks": ""
            },
            "colorscale": [
             [
              0,
              "#0d0887"
             ],
             [
              0.1111111111111111,
              "#46039f"
             ],
             [
              0.2222222222222222,
              "#7201a8"
             ],
             [
              0.3333333333333333,
              "#9c179e"
             ],
             [
              0.4444444444444444,
              "#bd3786"
             ],
             [
              0.5555555555555556,
              "#d8576b"
             ],
             [
              0.6666666666666666,
              "#ed7953"
             ],
             [
              0.7777777777777778,
              "#fb9f3a"
             ],
             [
              0.8888888888888888,
              "#fdca26"
             ],
             [
              1,
              "#f0f921"
             ]
            ],
            "type": "surface"
           }
          ],
          "table": [
           {
            "cells": {
             "fill": {
              "color": "#EBF0F8"
             },
             "line": {
              "color": "white"
             }
            },
            "header": {
             "fill": {
              "color": "#C8D4E3"
             },
             "line": {
              "color": "white"
             }
            },
            "type": "table"
           }
          ]
         },
         "layout": {
          "annotationdefaults": {
           "arrowcolor": "#2a3f5f",
           "arrowhead": 0,
           "arrowwidth": 1
          },
          "autotypenumbers": "strict",
          "coloraxis": {
           "colorbar": {
            "outlinewidth": 0,
            "ticks": ""
           }
          },
          "colorscale": {
           "diverging": [
            [
             0,
             "#8e0152"
            ],
            [
             0.1,
             "#c51b7d"
            ],
            [
             0.2,
             "#de77ae"
            ],
            [
             0.3,
             "#f1b6da"
            ],
            [
             0.4,
             "#fde0ef"
            ],
            [
             0.5,
             "#f7f7f7"
            ],
            [
             0.6,
             "#e6f5d0"
            ],
            [
             0.7,
             "#b8e186"
            ],
            [
             0.8,
             "#7fbc41"
            ],
            [
             0.9,
             "#4d9221"
            ],
            [
             1,
             "#276419"
            ]
           ],
           "sequential": [
            [
             0,
             "#0d0887"
            ],
            [
             0.1111111111111111,
             "#46039f"
            ],
            [
             0.2222222222222222,
             "#7201a8"
            ],
            [
             0.3333333333333333,
             "#9c179e"
            ],
            [
             0.4444444444444444,
             "#bd3786"
            ],
            [
             0.5555555555555556,
             "#d8576b"
            ],
            [
             0.6666666666666666,
             "#ed7953"
            ],
            [
             0.7777777777777778,
             "#fb9f3a"
            ],
            [
             0.8888888888888888,
             "#fdca26"
            ],
            [
             1,
             "#f0f921"
            ]
           ],
           "sequentialminus": [
            [
             0,
             "#0d0887"
            ],
            [
             0.1111111111111111,
             "#46039f"
            ],
            [
             0.2222222222222222,
             "#7201a8"
            ],
            [
             0.3333333333333333,
             "#9c179e"
            ],
            [
             0.4444444444444444,
             "#bd3786"
            ],
            [
             0.5555555555555556,
             "#d8576b"
            ],
            [
             0.6666666666666666,
             "#ed7953"
            ],
            [
             0.7777777777777778,
             "#fb9f3a"
            ],
            [
             0.8888888888888888,
             "#fdca26"
            ],
            [
             1,
             "#f0f921"
            ]
           ]
          },
          "colorway": [
           "#636efa",
           "#EF553B",
           "#00cc96",
           "#ab63fa",
           "#FFA15A",
           "#19d3f3",
           "#FF6692",
           "#B6E880",
           "#FF97FF",
           "#FECB52"
          ],
          "font": {
           "color": "#2a3f5f"
          },
          "geo": {
           "bgcolor": "white",
           "lakecolor": "white",
           "landcolor": "#E5ECF6",
           "showlakes": true,
           "showland": true,
           "subunitcolor": "white"
          },
          "hoverlabel": {
           "align": "left"
          },
          "hovermode": "closest",
          "mapbox": {
           "style": "light"
          },
          "paper_bgcolor": "white",
          "plot_bgcolor": "#E5ECF6",
          "polar": {
           "angularaxis": {
            "gridcolor": "white",
            "linecolor": "white",
            "ticks": ""
           },
           "bgcolor": "#E5ECF6",
           "radialaxis": {
            "gridcolor": "white",
            "linecolor": "white",
            "ticks": ""
           }
          },
          "scene": {
           "xaxis": {
            "backgroundcolor": "#E5ECF6",
            "gridcolor": "white",
            "gridwidth": 2,
            "linecolor": "white",
            "showbackground": true,
            "ticks": "",
            "zerolinecolor": "white"
           },
           "yaxis": {
            "backgroundcolor": "#E5ECF6",
            "gridcolor": "white",
            "gridwidth": 2,
            "linecolor": "white",
            "showbackground": true,
            "ticks": "",
            "zerolinecolor": "white"
           },
           "zaxis": {
            "backgroundcolor": "#E5ECF6",
            "gridcolor": "white",
            "gridwidth": 2,
            "linecolor": "white",
            "showbackground": true,
            "ticks": "",
            "zerolinecolor": "white"
           }
          },
          "shapedefaults": {
           "line": {
            "color": "#2a3f5f"
           }
          },
          "ternary": {
           "aaxis": {
            "gridcolor": "white",
            "linecolor": "white",
            "ticks": ""
           },
           "baxis": {
            "gridcolor": "white",
            "linecolor": "white",
            "ticks": ""
           },
           "bgcolor": "#E5ECF6",
           "caxis": {
            "gridcolor": "white",
            "linecolor": "white",
            "ticks": ""
           }
          },
          "title": {
           "x": 0.05
          },
          "xaxis": {
           "automargin": true,
           "gridcolor": "white",
           "linecolor": "white",
           "ticks": "",
           "title": {
            "standoff": 15
           },
           "zerolinecolor": "white",
           "zerolinewidth": 2
          },
          "yaxis": {
           "automargin": true,
           "gridcolor": "white",
           "linecolor": "white",
           "ticks": "",
           "title": {
            "standoff": 15
           },
           "zerolinecolor": "white",
           "zerolinewidth": 2
          }
         }
        },
        "title": {
         "text": "Proportion Stacked Bar Chart"
        },
        "width": 700,
        "xaxis": {
         "anchor": "y",
         "domain": [
          0,
          1
         ],
         "title": {
          "text": "km_cluster"
         }
        },
        "yaxis": {
         "anchor": "x",
         "domain": [
          0,
          1
         ],
         "title": {
          "text": "Proportion"
         }
        }
       }
      }
     },
     "metadata": {},
     "output_type": "display_data"
    }
   ],
   "source": [
    "check_cluster_proportions(final_data.copy(), \"km_cluster\", \"nutriscore_grade\")"
   ]
  },
  {
   "cell_type": "code",
   "execution_count": 29,
   "metadata": {},
   "outputs": [
    {
     "data": {
      "application/vnd.plotly.v1+json": {
       "config": {
        "plotlyServerURL": "https://plot.ly"
       },
       "data": [
        {
         "alignmentgroup": "True",
         "hovertemplate": "fit_nutri_grade=a<br>km_cluster=%{x}<br>Proportion=%{y}<extra></extra>",
         "legendgroup": "a",
         "marker": {
          "color": "teal",
          "pattern": {
           "shape": ""
          }
         },
         "name": "a",
         "offsetgroup": "a",
         "orientation": "v",
         "showlegend": true,
         "textposition": "auto",
         "type": "bar",
         "x": [
          -1,
          0,
          1,
          2,
          3,
          4
         ],
         "xaxis": "x",
         "y": [
          0.42857142857142855,
          0.01818181818181818,
          0.9285714285714286,
          0.8148148148148148,
          0.34782608695652173,
          0
         ],
         "yaxis": "y"
        },
        {
         "alignmentgroup": "True",
         "hovertemplate": "fit_nutri_grade=b<br>km_cluster=%{x}<br>Proportion=%{y}<extra></extra>",
         "legendgroup": "b",
         "marker": {
          "color": "#C5E8B7",
          "pattern": {
           "shape": ""
          }
         },
         "name": "b",
         "offsetgroup": "b",
         "orientation": "v",
         "showlegend": true,
         "textposition": "auto",
         "type": "bar",
         "x": [
          -1,
          0,
          1,
          2,
          3,
          4
         ],
         "xaxis": "x",
         "y": [
          0.42857142857142855,
          0.10303030303030303,
          0.07142857142857142,
          0.1111111111111111,
          0.3804347826086957,
          0.2
         ],
         "yaxis": "y"
        },
        {
         "alignmentgroup": "True",
         "hovertemplate": "fit_nutri_grade=c<br>km_cluster=%{x}<br>Proportion=%{y}<extra></extra>",
         "legendgroup": "c",
         "marker": {
          "color": "orange",
          "pattern": {
           "shape": ""
          }
         },
         "name": "c",
         "offsetgroup": "c",
         "orientation": "v",
         "showlegend": true,
         "textposition": "auto",
         "type": "bar",
         "x": [
          -1,
          0,
          1,
          2,
          3,
          4
         ],
         "xaxis": "x",
         "y": [
          0,
          0.22424242424242424,
          0,
          0,
          0.07608695652173914,
          0.8
         ],
         "yaxis": "y"
        },
        {
         "alignmentgroup": "True",
         "hovertemplate": "fit_nutri_grade=d<br>km_cluster=%{x}<br>Proportion=%{y}<extra></extra>",
         "legendgroup": "d",
         "marker": {
          "color": "pink",
          "pattern": {
           "shape": ""
          }
         },
         "name": "d",
         "offsetgroup": "d",
         "orientation": "v",
         "showlegend": true,
         "textposition": "auto",
         "type": "bar",
         "x": [
          -1,
          0,
          1,
          2,
          3,
          4
         ],
         "xaxis": "x",
         "y": [
          0,
          0.19393939393939394,
          0,
          0.07407407407407407,
          0.13043478260869565,
          0
         ],
         "yaxis": "y"
        },
        {
         "alignmentgroup": "True",
         "hovertemplate": "fit_nutri_grade=e<br>km_cluster=%{x}<br>Proportion=%{y}<extra></extra>",
         "legendgroup": "e",
         "marker": {
          "color": "maroon",
          "pattern": {
           "shape": ""
          }
         },
         "name": "e",
         "offsetgroup": "e",
         "orientation": "v",
         "showlegend": true,
         "textposition": "auto",
         "type": "bar",
         "x": [
          -1,
          0,
          1,
          2,
          3,
          4
         ],
         "xaxis": "x",
         "y": [
          0.14285714285714285,
          0.46060606060606063,
          0,
          0,
          0.06521739130434782,
          0
         ],
         "yaxis": "y"
        }
       ],
       "layout": {
        "barmode": "relative",
        "height": 500,
        "legend": {
         "title": {
          "text": "fit_nutri_grade"
         },
         "tracegroupgap": 0
        },
        "template": {
         "data": {
          "bar": [
           {
            "error_x": {
             "color": "#2a3f5f"
            },
            "error_y": {
             "color": "#2a3f5f"
            },
            "marker": {
             "line": {
              "color": "#E5ECF6",
              "width": 0.5
             },
             "pattern": {
              "fillmode": "overlay",
              "size": 10,
              "solidity": 0.2
             }
            },
            "type": "bar"
           }
          ],
          "barpolar": [
           {
            "marker": {
             "line": {
              "color": "#E5ECF6",
              "width": 0.5
             },
             "pattern": {
              "fillmode": "overlay",
              "size": 10,
              "solidity": 0.2
             }
            },
            "type": "barpolar"
           }
          ],
          "carpet": [
           {
            "aaxis": {
             "endlinecolor": "#2a3f5f",
             "gridcolor": "white",
             "linecolor": "white",
             "minorgridcolor": "white",
             "startlinecolor": "#2a3f5f"
            },
            "baxis": {
             "endlinecolor": "#2a3f5f",
             "gridcolor": "white",
             "linecolor": "white",
             "minorgridcolor": "white",
             "startlinecolor": "#2a3f5f"
            },
            "type": "carpet"
           }
          ],
          "choropleth": [
           {
            "colorbar": {
             "outlinewidth": 0,
             "ticks": ""
            },
            "type": "choropleth"
           }
          ],
          "contour": [
           {
            "colorbar": {
             "outlinewidth": 0,
             "ticks": ""
            },
            "colorscale": [
             [
              0,
              "#0d0887"
             ],
             [
              0.1111111111111111,
              "#46039f"
             ],
             [
              0.2222222222222222,
              "#7201a8"
             ],
             [
              0.3333333333333333,
              "#9c179e"
             ],
             [
              0.4444444444444444,
              "#bd3786"
             ],
             [
              0.5555555555555556,
              "#d8576b"
             ],
             [
              0.6666666666666666,
              "#ed7953"
             ],
             [
              0.7777777777777778,
              "#fb9f3a"
             ],
             [
              0.8888888888888888,
              "#fdca26"
             ],
             [
              1,
              "#f0f921"
             ]
            ],
            "type": "contour"
           }
          ],
          "contourcarpet": [
           {
            "colorbar": {
             "outlinewidth": 0,
             "ticks": ""
            },
            "type": "contourcarpet"
           }
          ],
          "heatmap": [
           {
            "colorbar": {
             "outlinewidth": 0,
             "ticks": ""
            },
            "colorscale": [
             [
              0,
              "#0d0887"
             ],
             [
              0.1111111111111111,
              "#46039f"
             ],
             [
              0.2222222222222222,
              "#7201a8"
             ],
             [
              0.3333333333333333,
              "#9c179e"
             ],
             [
              0.4444444444444444,
              "#bd3786"
             ],
             [
              0.5555555555555556,
              "#d8576b"
             ],
             [
              0.6666666666666666,
              "#ed7953"
             ],
             [
              0.7777777777777778,
              "#fb9f3a"
             ],
             [
              0.8888888888888888,
              "#fdca26"
             ],
             [
              1,
              "#f0f921"
             ]
            ],
            "type": "heatmap"
           }
          ],
          "heatmapgl": [
           {
            "colorbar": {
             "outlinewidth": 0,
             "ticks": ""
            },
            "colorscale": [
             [
              0,
              "#0d0887"
             ],
             [
              0.1111111111111111,
              "#46039f"
             ],
             [
              0.2222222222222222,
              "#7201a8"
             ],
             [
              0.3333333333333333,
              "#9c179e"
             ],
             [
              0.4444444444444444,
              "#bd3786"
             ],
             [
              0.5555555555555556,
              "#d8576b"
             ],
             [
              0.6666666666666666,
              "#ed7953"
             ],
             [
              0.7777777777777778,
              "#fb9f3a"
             ],
             [
              0.8888888888888888,
              "#fdca26"
             ],
             [
              1,
              "#f0f921"
             ]
            ],
            "type": "heatmapgl"
           }
          ],
          "histogram": [
           {
            "marker": {
             "pattern": {
              "fillmode": "overlay",
              "size": 10,
              "solidity": 0.2
             }
            },
            "type": "histogram"
           }
          ],
          "histogram2d": [
           {
            "colorbar": {
             "outlinewidth": 0,
             "ticks": ""
            },
            "colorscale": [
             [
              0,
              "#0d0887"
             ],
             [
              0.1111111111111111,
              "#46039f"
             ],
             [
              0.2222222222222222,
              "#7201a8"
             ],
             [
              0.3333333333333333,
              "#9c179e"
             ],
             [
              0.4444444444444444,
              "#bd3786"
             ],
             [
              0.5555555555555556,
              "#d8576b"
             ],
             [
              0.6666666666666666,
              "#ed7953"
             ],
             [
              0.7777777777777778,
              "#fb9f3a"
             ],
             [
              0.8888888888888888,
              "#fdca26"
             ],
             [
              1,
              "#f0f921"
             ]
            ],
            "type": "histogram2d"
           }
          ],
          "histogram2dcontour": [
           {
            "colorbar": {
             "outlinewidth": 0,
             "ticks": ""
            },
            "colorscale": [
             [
              0,
              "#0d0887"
             ],
             [
              0.1111111111111111,
              "#46039f"
             ],
             [
              0.2222222222222222,
              "#7201a8"
             ],
             [
              0.3333333333333333,
              "#9c179e"
             ],
             [
              0.4444444444444444,
              "#bd3786"
             ],
             [
              0.5555555555555556,
              "#d8576b"
             ],
             [
              0.6666666666666666,
              "#ed7953"
             ],
             [
              0.7777777777777778,
              "#fb9f3a"
             ],
             [
              0.8888888888888888,
              "#fdca26"
             ],
             [
              1,
              "#f0f921"
             ]
            ],
            "type": "histogram2dcontour"
           }
          ],
          "mesh3d": [
           {
            "colorbar": {
             "outlinewidth": 0,
             "ticks": ""
            },
            "type": "mesh3d"
           }
          ],
          "parcoords": [
           {
            "line": {
             "colorbar": {
              "outlinewidth": 0,
              "ticks": ""
             }
            },
            "type": "parcoords"
           }
          ],
          "pie": [
           {
            "automargin": true,
            "type": "pie"
           }
          ],
          "scatter": [
           {
            "fillpattern": {
             "fillmode": "overlay",
             "size": 10,
             "solidity": 0.2
            },
            "type": "scatter"
           }
          ],
          "scatter3d": [
           {
            "line": {
             "colorbar": {
              "outlinewidth": 0,
              "ticks": ""
             }
            },
            "marker": {
             "colorbar": {
              "outlinewidth": 0,
              "ticks": ""
             }
            },
            "type": "scatter3d"
           }
          ],
          "scattercarpet": [
           {
            "marker": {
             "colorbar": {
              "outlinewidth": 0,
              "ticks": ""
             }
            },
            "type": "scattercarpet"
           }
          ],
          "scattergeo": [
           {
            "marker": {
             "colorbar": {
              "outlinewidth": 0,
              "ticks": ""
             }
            },
            "type": "scattergeo"
           }
          ],
          "scattergl": [
           {
            "marker": {
             "colorbar": {
              "outlinewidth": 0,
              "ticks": ""
             }
            },
            "type": "scattergl"
           }
          ],
          "scattermapbox": [
           {
            "marker": {
             "colorbar": {
              "outlinewidth": 0,
              "ticks": ""
             }
            },
            "type": "scattermapbox"
           }
          ],
          "scatterpolar": [
           {
            "marker": {
             "colorbar": {
              "outlinewidth": 0,
              "ticks": ""
             }
            },
            "type": "scatterpolar"
           }
          ],
          "scatterpolargl": [
           {
            "marker": {
             "colorbar": {
              "outlinewidth": 0,
              "ticks": ""
             }
            },
            "type": "scatterpolargl"
           }
          ],
          "scatterternary": [
           {
            "marker": {
             "colorbar": {
              "outlinewidth": 0,
              "ticks": ""
             }
            },
            "type": "scatterternary"
           }
          ],
          "surface": [
           {
            "colorbar": {
             "outlinewidth": 0,
             "ticks": ""
            },
            "colorscale": [
             [
              0,
              "#0d0887"
             ],
             [
              0.1111111111111111,
              "#46039f"
             ],
             [
              0.2222222222222222,
              "#7201a8"
             ],
             [
              0.3333333333333333,
              "#9c179e"
             ],
             [
              0.4444444444444444,
              "#bd3786"
             ],
             [
              0.5555555555555556,
              "#d8576b"
             ],
             [
              0.6666666666666666,
              "#ed7953"
             ],
             [
              0.7777777777777778,
              "#fb9f3a"
             ],
             [
              0.8888888888888888,
              "#fdca26"
             ],
             [
              1,
              "#f0f921"
             ]
            ],
            "type": "surface"
           }
          ],
          "table": [
           {
            "cells": {
             "fill": {
              "color": "#EBF0F8"
             },
             "line": {
              "color": "white"
             }
            },
            "header": {
             "fill": {
              "color": "#C8D4E3"
             },
             "line": {
              "color": "white"
             }
            },
            "type": "table"
           }
          ]
         },
         "layout": {
          "annotationdefaults": {
           "arrowcolor": "#2a3f5f",
           "arrowhead": 0,
           "arrowwidth": 1
          },
          "autotypenumbers": "strict",
          "coloraxis": {
           "colorbar": {
            "outlinewidth": 0,
            "ticks": ""
           }
          },
          "colorscale": {
           "diverging": [
            [
             0,
             "#8e0152"
            ],
            [
             0.1,
             "#c51b7d"
            ],
            [
             0.2,
             "#de77ae"
            ],
            [
             0.3,
             "#f1b6da"
            ],
            [
             0.4,
             "#fde0ef"
            ],
            [
             0.5,
             "#f7f7f7"
            ],
            [
             0.6,
             "#e6f5d0"
            ],
            [
             0.7,
             "#b8e186"
            ],
            [
             0.8,
             "#7fbc41"
            ],
            [
             0.9,
             "#4d9221"
            ],
            [
             1,
             "#276419"
            ]
           ],
           "sequential": [
            [
             0,
             "#0d0887"
            ],
            [
             0.1111111111111111,
             "#46039f"
            ],
            [
             0.2222222222222222,
             "#7201a8"
            ],
            [
             0.3333333333333333,
             "#9c179e"
            ],
            [
             0.4444444444444444,
             "#bd3786"
            ],
            [
             0.5555555555555556,
             "#d8576b"
            ],
            [
             0.6666666666666666,
             "#ed7953"
            ],
            [
             0.7777777777777778,
             "#fb9f3a"
            ],
            [
             0.8888888888888888,
             "#fdca26"
            ],
            [
             1,
             "#f0f921"
            ]
           ],
           "sequentialminus": [
            [
             0,
             "#0d0887"
            ],
            [
             0.1111111111111111,
             "#46039f"
            ],
            [
             0.2222222222222222,
             "#7201a8"
            ],
            [
             0.3333333333333333,
             "#9c179e"
            ],
            [
             0.4444444444444444,
             "#bd3786"
            ],
            [
             0.5555555555555556,
             "#d8576b"
            ],
            [
             0.6666666666666666,
             "#ed7953"
            ],
            [
             0.7777777777777778,
             "#fb9f3a"
            ],
            [
             0.8888888888888888,
             "#fdca26"
            ],
            [
             1,
             "#f0f921"
            ]
           ]
          },
          "colorway": [
           "#636efa",
           "#EF553B",
           "#00cc96",
           "#ab63fa",
           "#FFA15A",
           "#19d3f3",
           "#FF6692",
           "#B6E880",
           "#FF97FF",
           "#FECB52"
          ],
          "font": {
           "color": "#2a3f5f"
          },
          "geo": {
           "bgcolor": "white",
           "lakecolor": "white",
           "landcolor": "#E5ECF6",
           "showlakes": true,
           "showland": true,
           "subunitcolor": "white"
          },
          "hoverlabel": {
           "align": "left"
          },
          "hovermode": "closest",
          "mapbox": {
           "style": "light"
          },
          "paper_bgcolor": "white",
          "plot_bgcolor": "#E5ECF6",
          "polar": {
           "angularaxis": {
            "gridcolor": "white",
            "linecolor": "white",
            "ticks": ""
           },
           "bgcolor": "#E5ECF6",
           "radialaxis": {
            "gridcolor": "white",
            "linecolor": "white",
            "ticks": ""
           }
          },
          "scene": {
           "xaxis": {
            "backgroundcolor": "#E5ECF6",
            "gridcolor": "white",
            "gridwidth": 2,
            "linecolor": "white",
            "showbackground": true,
            "ticks": "",
            "zerolinecolor": "white"
           },
           "yaxis": {
            "backgroundcolor": "#E5ECF6",
            "gridcolor": "white",
            "gridwidth": 2,
            "linecolor": "white",
            "showbackground": true,
            "ticks": "",
            "zerolinecolor": "white"
           },
           "zaxis": {
            "backgroundcolor": "#E5ECF6",
            "gridcolor": "white",
            "gridwidth": 2,
            "linecolor": "white",
            "showbackground": true,
            "ticks": "",
            "zerolinecolor": "white"
           }
          },
          "shapedefaults": {
           "line": {
            "color": "#2a3f5f"
           }
          },
          "ternary": {
           "aaxis": {
            "gridcolor": "white",
            "linecolor": "white",
            "ticks": ""
           },
           "baxis": {
            "gridcolor": "white",
            "linecolor": "white",
            "ticks": ""
           },
           "bgcolor": "#E5ECF6",
           "caxis": {
            "gridcolor": "white",
            "linecolor": "white",
            "ticks": ""
           }
          },
          "title": {
           "x": 0.05
          },
          "xaxis": {
           "automargin": true,
           "gridcolor": "white",
           "linecolor": "white",
           "ticks": "",
           "title": {
            "standoff": 15
           },
           "zerolinecolor": "white",
           "zerolinewidth": 2
          },
          "yaxis": {
           "automargin": true,
           "gridcolor": "white",
           "linecolor": "white",
           "ticks": "",
           "title": {
            "standoff": 15
           },
           "zerolinecolor": "white",
           "zerolinewidth": 2
          }
         }
        },
        "title": {
         "text": "Proportion Stacked Bar Chart"
        },
        "width": 700,
        "xaxis": {
         "anchor": "y",
         "domain": [
          0,
          1
         ],
         "title": {
          "text": "km_cluster"
         }
        },
        "yaxis": {
         "anchor": "x",
         "domain": [
          0,
          1
         ],
         "title": {
          "text": "Proportion"
         }
        }
       }
      }
     },
     "metadata": {},
     "output_type": "display_data"
    }
   ],
   "source": [
    "check_cluster_proportions(final_data.copy(), \"km_cluster\", \"fit_nutri_grade\")"
   ]
  },
  {
   "cell_type": "code",
   "execution_count": null,
   "metadata": {},
   "outputs": [],
   "source": []
  }
 ],
 "metadata": {
  "kernelspec": {
   "display_name": "base",
   "language": "python",
   "name": "python3"
  },
  "language_info": {
   "codemirror_mode": {
    "name": "ipython",
    "version": 3
   },
   "file_extension": ".py",
   "mimetype": "text/x-python",
   "name": "python",
   "nbconvert_exporter": "python",
   "pygments_lexer": "ipython3",
   "version": "3.11.5"
  }
 },
 "nbformat": 4,
 "nbformat_minor": 2
}
