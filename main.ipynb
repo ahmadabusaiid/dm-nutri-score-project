{
  "nbformat": 4,
  "nbformat_minor": 0,
  "metadata": {
    "colab": {
      "provenance": [],
      "include_colab_link": true
    },
    "kernelspec": {
      "name": "python3",
      "display_name": "Python 3"
    },
    "language_info": {
      "name": "python"
    }
  },
  "cells": [
    {
      "cell_type": "markdown",
      "metadata": {
        "id": "view-in-github",
        "colab_type": "text"
      },
      "source": [
        "<a href=\"https://colab.research.google.com/github/ahmadabusaiid/dm-nutri-score-project/blob/main/main.ipynb\" target=\"_parent\"><img src=\"https://colab.research.google.com/assets/colab-badge.svg\" alt=\"Open In Colab\"/></a>"
      ]
    },
    {
      "cell_type": "markdown",
      "source": [
        "# ELABORATION OF SOME DECISION MODELS FOR THE NUTRI-SCORE LABEL"
      ],
      "metadata": {
        "id": "rVfnouRuDYq1"
      }
    },
    {
      "cell_type": "markdown",
      "source": [
        "## Data Loading"
      ],
      "metadata": {
        "id": "wp74gMJ38Plb"
      }
    },
    {
      "cell_type": "code",
      "source": [],
      "metadata": {
        "id": "ho54ODGu8O7Q"
      },
      "execution_count": null,
      "outputs": []
    },
    {
      "cell_type": "markdown",
      "source": [
        "## Additive Model"
      ],
      "metadata": {
        "id": "wn5MbCHx-oaK"
      }
    },
    {
      "cell_type": "code",
      "execution_count": null,
      "metadata": {
        "id": "CcNLG54RDWAz"
      },
      "outputs": [],
      "source": []
    },
    {
      "cell_type": "code",
      "source": [],
      "metadata": {
        "id": "wVdJ6KE8-8Pi"
      },
      "execution_count": null,
      "outputs": []
    },
    {
      "cell_type": "markdown",
      "source": [
        "## Simple Sorting"
      ],
      "metadata": {
        "id": "TY1urTjC-8re"
      }
    },
    {
      "cell_type": "markdown",
      "source": [
        "### Pessimistic Majority Sorting"
      ],
      "metadata": {
        "id": "0xD_OczP_MGq"
      }
    },
    {
      "cell_type": "code",
      "source": [
        "#def PessimisticmajoritySorting()"
      ],
      "metadata": {
        "id": "vOL2ALJ__Rgm"
      },
      "execution_count": null,
      "outputs": []
    },
    {
      "cell_type": "markdown",
      "source": [
        "### Optimistic Majority Sorting"
      ],
      "metadata": {
        "id": "RmvnuUwd_Vbk"
      }
    },
    {
      "cell_type": "code",
      "source": [
        "#def OptimisticmajoritySorting()"
      ],
      "metadata": {
        "id": "Rg77b9vH_LKV"
      },
      "execution_count": null,
      "outputs": []
    },
    {
      "cell_type": "code",
      "source": [],
      "metadata": {
        "id": "XOxUUe7A_Dh4"
      },
      "execution_count": null,
      "outputs": []
    },
    {
      "cell_type": "markdown",
      "source": [
        "## ML Classification Model"
      ],
      "metadata": {
        "id": "FdEsjqMG-4bc"
      }
    },
    {
      "cell_type": "code",
      "source": [],
      "metadata": {
        "id": "5EcSasEQ-7Og"
      },
      "execution_count": null,
      "outputs": []
    },
    {
      "cell_type": "markdown",
      "source": [
        "## Comparison with another dataset"
      ],
      "metadata": {
        "id": "v12cxsut_gy4"
      }
    },
    {
      "cell_type": "code",
      "source": [],
      "metadata": {
        "id": "t5R29d4P_n3O"
      },
      "execution_count": null,
      "outputs": []
    }
  ]
}